{
 "cells": [
  {
   "cell_type": "code",
   "execution_count": 1,
   "id": "41973c70-e4af-492e-a27e-4317e92d33e8",
   "metadata": {},
   "outputs": [],
   "source": [
    "import sys\n",
    "import numpy as np\n",
    "import pandas as pd\n",
    "import pickle\n",
    "from pathlib import Path\n",
    "from autogluon.vision import ImageDataset"
   ]
  },
  {
   "cell_type": "markdown",
   "id": "13752742-750c-40f6-8dc6-68b5712635f1",
   "metadata": {},
   "source": [
    "## Read CSV file with true labels for each file name\n",
    "\n",
    "See notebook from previous step: \"1_Run_Cross_Val_Noisy_Labels.ipynb\""
   ]
  },
  {
   "cell_type": "code",
   "execution_count": 2,
   "id": "1f029375-68a5-43b8-ae08-d028da9803e1",
   "metadata": {},
   "outputs": [
    {
     "data": {
      "text/html": [
       "<div>\n",
       "<style scoped>\n",
       "    .dataframe tbody tr th:only-of-type {\n",
       "        vertical-align: middle;\n",
       "    }\n",
       "\n",
       "    .dataframe tbody tr th {\n",
       "        vertical-align: top;\n",
       "    }\n",
       "\n",
       "    .dataframe thead th {\n",
       "        text-align: right;\n",
       "    }\n",
       "</style>\n",
       "<table border=\"1\" class=\"dataframe\">\n",
       "  <thead>\n",
       "    <tr style=\"text-align: right;\">\n",
       "      <th></th>\n",
       "      <th>index</th>\n",
       "      <th>image</th>\n",
       "      <th>label</th>\n",
       "      <th>true_label</th>\n",
       "      <th>file_name</th>\n",
       "    </tr>\n",
       "  </thead>\n",
       "  <tbody>\n",
       "    <tr>\n",
       "      <th>0</th>\n",
       "      <td>0</td>\n",
       "      <td>./cifar-10n-png/train/image_id_0.png</td>\n",
       "      <td>4</td>\n",
       "      <td>6</td>\n",
       "      <td>image_id_0.png</td>\n",
       "    </tr>\n",
       "    <tr>\n",
       "      <th>1</th>\n",
       "      <td>1</td>\n",
       "      <td>./cifar-10n-png/train/image_id_1.png</td>\n",
       "      <td>9</td>\n",
       "      <td>9</td>\n",
       "      <td>image_id_1.png</td>\n",
       "    </tr>\n",
       "    <tr>\n",
       "      <th>2</th>\n",
       "      <td>2</td>\n",
       "      <td>./cifar-10n-png/train/image_id_2.png</td>\n",
       "      <td>0</td>\n",
       "      <td>9</td>\n",
       "      <td>image_id_2.png</td>\n",
       "    </tr>\n",
       "  </tbody>\n",
       "</table>\n",
       "</div>"
      ],
      "text/plain": [
       "   index                                 image  label  true_label  \\\n",
       "0      0  ./cifar-10n-png/train/image_id_0.png      4           6   \n",
       "1      1  ./cifar-10n-png/train/image_id_1.png      9           9   \n",
       "2      2  ./cifar-10n-png/train/image_id_2.png      0           9   \n",
       "\n",
       "        file_name  \n",
       "0  image_id_0.png  \n",
       "1  image_id_1.png  \n",
       "2  image_id_2.png  "
      ]
     },
     "execution_count": 2,
     "metadata": {},
     "output_type": "execute_result"
    }
   ],
   "source": [
    "df_train = pd.read_csv(\"cifar-10n-dataset-noise-type-worse.csv\")\n",
    "df_train[\"file_name\"] = df_train.image.map(lambda f: Path(f).name)\n",
    "df_train.head(3)"
   ]
  },
  {
   "cell_type": "markdown",
   "id": "b47d2005-d776-481c-a819-e3f879d17952",
   "metadata": {},
   "source": [
    "## Read pickle files from cross-validation"
   ]
  },
  {
   "cell_type": "code",
   "execution_count": 3,
   "id": "0c0a4fd0-6166-4139-a360-d98978213d8f",
   "metadata": {},
   "outputs": [],
   "source": [
    "# utils functions below (can consider moving these to separate utils.py file)\n",
    "\n",
    "def load_pickle(pickle_file_name, verbose=1):\n",
    "    \"\"\"Load pickle file\"\"\"\n",
    "\n",
    "    if verbose:\n",
    "        print(f\"Loading {pickle_file_name}\")\n",
    "\n",
    "    with open(pickle_file_name, 'rb') as handle:\n",
    "        out = pickle.load(handle)\n",
    "        \n",
    "    return out\n",
    "\n",
    "# get the original label from file path (aka \"true labels\" y)\n",
    "get_orig_label_idx_from_file_path = np.vectorize(lambda f: label_name_to_idx_map[Path(f).parts[-2]])"
   ]
  },
  {
   "cell_type": "code",
   "execution_count": 62,
   "id": "b5aee28d-45b5-4d01-b230-b1160ffaa425",
   "metadata": {},
   "outputs": [
    {
     "name": "stdout",
     "output_type": "stream",
     "text": [
      "Accuracy of noisy labels vs true labels: 0.59792\n",
      "Saving to numpy files in this folder: ./cifar-10n-png_noise_type_worst_cv_resnet18/\n",
      "\n",
      "Accuracy of noisy labels vs true labels: 0.59792\n",
      "Saving to numpy files in this folder: ./cifar-10n-png_noise_type_worst_cv_resnet50d/\n",
      "\n",
      "Accuracy of noisy labels vs true labels: 0.59792\n",
      "Saving to numpy files in this folder: ./cifar-10n-png_noise_type_worst_cv_efficientnet_b1/\n",
      "\n",
      "Accuracy of noisy labels vs true labels: 0.59792\n",
      "Saving to numpy files in this folder: ./cifar-10n-png_noise_type_worst_cv_twins_pcpvt_base/\n",
      "\n",
      "Accuracy of noisy labels vs true labels: 0.59792\n",
      "Saving to numpy files in this folder: ./cifar-10n-png_noise_type_worst_cv_swin_base_patch4_window7_224/\n",
      "\n"
     ]
    }
   ],
   "source": [
    "num_cv_folds = 5 # number K in stratified K-folds cross-validation\n",
    "verbose = 0\n",
    "\n",
    "models = [\n",
    "    \"resnet18\", \n",
    "    \"resnet50d\",\n",
    "    \"efficientnet_b1\",\n",
    "    \"twins_pcpvt_base\",\n",
    "    \"swin_base_patch4_window7_224\"\n",
    "]\n",
    "\n",
    "results_list = []\n",
    "\n",
    "for model in models:\n",
    "\n",
    "    pred_probs = []\n",
    "    labels = []\n",
    "    images = []\n",
    "    \n",
    "    for split_num in range(num_cv_folds):\n",
    "\n",
    "        out_subfolder = f\"./cifar-10n-png_noise_type_worst_cv_{model}/split_{split_num}/\"\n",
    "        \n",
    "        # pickle file name to read\n",
    "        get_pickle_file_name = (\n",
    "            lambda object_name: f\"{out_subfolder}_{object_name}_split_{split_num}\"\n",
    "        )\n",
    "\n",
    "        # NOTE: the \"test_\" prefix in the pickle name correspond to the \"test\" split during cross-validation.\n",
    "        pred_probs_split = load_pickle(get_pickle_file_name(\"test_pred_probs\"), verbose=verbose)\n",
    "        labels_split = load_pickle(get_pickle_file_name(\"test_labels\"), verbose=verbose)\n",
    "        images_split = load_pickle(get_pickle_file_name(\"test_image_files\"), verbose=verbose)\n",
    "        indices_split = load_pickle(get_pickle_file_name(\"test_indices\"), verbose=verbose)\n",
    "\n",
    "        # append to list so we can combine data from all the splits\n",
    "        pred_probs.append(pred_probs_split)\n",
    "        labels.append(labels_split)\n",
    "        images.append(images_split)    \n",
    "\n",
    "    # convert list to array\n",
    "    pred_probs = np.vstack(pred_probs)\n",
    "    labels = np.hstack(labels) # remember that this is the noisy labels\n",
    "    images = np.hstack(images)\n",
    "\n",
    "    # create temp DataFrame so we can join to df_train to get the true labels\n",
    "    # note: stratified K-folds can reorder the files! this is why we need to join on file name\n",
    "    df_cv_temp = pd.DataFrame({\n",
    "        \"file_name\": pd.Series(images).map(lambda f: Path(f).name),\n",
    "        \"noisy_labels\": labels\n",
    "    }).merge(df_train, how=\"left\", on=\"file_name\") # join on file_name to get the true labels\n",
    "    \n",
    "    # sanity check: noisy labels should be equal to \"label\" from the original CSV file\n",
    "    assert (df_cv_temp.noisy_labels.values == df_cv_temp.label.values).all()\n",
    "    \n",
    "    # get the true labels\n",
    "    true_labels = df_cv_temp.true_label\n",
    "    \n",
    "    # sanity check: accuracy of noisy labels vs true labels\n",
    "    print(f\"Accuracy of noisy labels vs true labels: {(labels == true_labels).mean()}\")\n",
    "    \n",
    "    # save to Numpy files\n",
    "    numpy_out_folder = f\"./cifar-10n-png_noise_type_worst_cv_{model}/\"\n",
    "    \n",
    "    print(f\"Saving to numpy files in this folder: {numpy_out_folder}\")\n",
    "    print()\n",
    "    \n",
    "    np.save(numpy_out_folder + \"pred_probs\", pred_probs)\n",
    "    np.save(numpy_out_folder + \"noisy_labels\", labels)\n",
    "    np.save(numpy_out_folder + \"images\", images)\n",
    "    np.save(numpy_out_folder + \"true_labels\", true_labels)"
   ]
  },
  {
   "cell_type": "markdown",
   "id": "a8209522-319e-44f3-8db0-c70a64147f5c",
   "metadata": {},
   "source": [
    "## Read numpy file"
   ]
  },
  {
   "cell_type": "code",
   "execution_count": 12,
   "id": "ee2ac82b-2b82-493d-bad4-c74fad6d7333",
   "metadata": {},
   "outputs": [],
   "source": [
    "model = \"swin_base_patch4_window7_224\"\n",
    "numpy_out_folder = f\"./cifar-10n-png_noise_type_worst_cv_{model}/\"\n",
    "\n",
    "pred_probs = np.load(numpy_out_folder + \"pred_probs.npy\")\n",
    "labels = np.load(numpy_out_folder + \"noisy_labels.npy\")\n",
    "images = np.load(numpy_out_folder + \"images.npy\", allow_pickle=True)"
   ]
  },
  {
   "cell_type": "code",
   "execution_count": null,
   "id": "aba0ea0d-87dd-42bf-9950-07b915adb103",
   "metadata": {},
   "outputs": [],
   "source": []
  }
 ],
 "metadata": {
  "kernelspec": {
   "display_name": "Python 3 (ipykernel)",
   "language": "python",
   "name": "python3"
  },
  "language_info": {
   "codemirror_mode": {
    "name": "ipython",
    "version": 3
   },
   "file_extension": ".py",
   "mimetype": "text/x-python",
   "name": "python",
   "nbconvert_exporter": "python",
   "pygments_lexer": "ipython3",
   "version": "3.8.10"
  }
 },
 "nbformat": 4,
 "nbformat_minor": 5
}
