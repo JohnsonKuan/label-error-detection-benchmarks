{
 "cells": [
  {
   "cell_type": "code",
   "execution_count": 10,
   "id": "41973c70-e4af-492e-a27e-4317e92d33e8",
   "metadata": {},
   "outputs": [],
   "source": [
    "import sys\n",
    "import numpy as np\n",
    "import pandas as pd\n",
    "import pickle\n",
    "from pathlib import Path\n",
    "from autogluon.vision import ImageDataset"
   ]
  },
  {
   "cell_type": "markdown",
   "id": "3033e921-aa6d-48df-b428-6ee20bf724aa",
   "metadata": {},
   "source": [
    "## Read original data"
   ]
  },
  {
   "cell_type": "code",
   "execution_count": 2,
   "id": "0cc66dd3-3474-4384-a441-5b4207c4a3ad",
   "metadata": {},
   "outputs": [],
   "source": [
    "CIFAR_10_DATA_PATH = \"/Data/cifar10_png/\"\n",
    "\n",
    "# read data from root folder\n",
    "train_dataset, _, _ = ImageDataset.from_folders(\n",
    "    root=CIFAR_10_DATA_PATH,\n",
    ")"
   ]
  },
  {
   "cell_type": "code",
   "execution_count": 3,
   "id": "8d693b08-bcb3-488a-8ddf-f447f01f2c07",
   "metadata": {},
   "outputs": [
    {
     "data": {
      "text/plain": [
       "{'airplane': 0,\n",
       " 'automobile': 1,\n",
       " 'bird': 2,\n",
       " 'cat': 3,\n",
       " 'deer': 4,\n",
       " 'dog': 5,\n",
       " 'frog': 6,\n",
       " 'horse': 7,\n",
       " 'ship': 8,\n",
       " 'truck': 9}"
      ]
     },
     "execution_count": 3,
     "metadata": {},
     "output_type": "execute_result"
    }
   ],
   "source": [
    "# get original label name to idx mapping\n",
    "# alphabetical when using AutoGluon!\n",
    "label_name_to_idx_map = {v:k for k, v in enumerate(train_dataset.classes)}\n",
    "label_name_to_idx_map"
   ]
  },
  {
   "cell_type": "markdown",
   "id": "b47d2005-d776-481c-a819-e3f879d17952",
   "metadata": {},
   "source": [
    "## Read pickle files from cross-validation"
   ]
  },
  {
   "cell_type": "code",
   "execution_count": 4,
   "id": "0c0a4fd0-6166-4139-a360-d98978213d8f",
   "metadata": {},
   "outputs": [],
   "source": [
    "# utils functions below (can consider moving these to separate utils.py file)\n",
    "\n",
    "def load_pickle(pickle_file_name, verbose=1):\n",
    "    \"\"\"Load pickle file\"\"\"\n",
    "\n",
    "    if verbose:\n",
    "        print(f\"Loading {pickle_file_name}\")\n",
    "\n",
    "    with open(pickle_file_name, 'rb') as handle:\n",
    "        out = pickle.load(handle)\n",
    "        \n",
    "    return out\n",
    "\n",
    "# get the original label from file path (aka \"true labels\" y)\n",
    "get_orig_label_idx_from_file_path = np.vectorize(lambda f: label_name_to_idx_map[Path(f).parts[-2]])"
   ]
  },
  {
   "cell_type": "code",
   "execution_count": 7,
   "id": "b5aee28d-45b5-4d01-b230-b1160ffaa425",
   "metadata": {},
   "outputs": [
    {
     "name": "stdout",
     "output_type": "stream",
     "text": [
      "Saving to numpy files in this folder: ./cifar10_train_dataset_noise_amount_0.2_sparsity_0.4_cv_resnet18/\n",
      "Model: resnet18\n",
      "  Accuracy (argmax pred vs noisy labels): 0.73976\n",
      "  Accuracy (argmax pred vs true labels) : 0.92358\n",
      "  Accuracy (noisy vs true labels)       : 0.80054\n",
      "Saving to numpy files in this folder: ./cifar10_train_dataset_noise_amount_0.2_sparsity_0.4_cv_resnet50d/\n",
      "Model: resnet50d\n",
      "  Accuracy (argmax pred vs noisy labels): 0.75506\n",
      "  Accuracy (argmax pred vs true labels) : 0.94312\n",
      "  Accuracy (noisy vs true labels)       : 0.80054\n",
      "Saving to numpy files in this folder: ./cifar10_train_dataset_noise_amount_0.2_sparsity_0.4_cv_efficientnet_b1/\n",
      "Model: efficientnet_b1\n",
      "  Accuracy (argmax pred vs noisy labels): 0.73582\n",
      "  Accuracy (argmax pred vs true labels) : 0.91784\n",
      "  Accuracy (noisy vs true labels)       : 0.80054\n",
      "Saving to numpy files in this folder: ./cifar10_train_dataset_noise_amount_0.2_sparsity_0.4_cv_twins_pcpvt_base/\n",
      "Model: twins_pcpvt_base\n",
      "  Accuracy (argmax pred vs noisy labels): 0.78098\n",
      "  Accuracy (argmax pred vs true labels) : 0.97382\n",
      "  Accuracy (noisy vs true labels)       : 0.80054\n",
      "Saving to numpy files in this folder: ./cifar10_train_dataset_noise_amount_0.2_sparsity_0.4_cv_swin_base_patch4_window7_224/\n",
      "Model: swin_base_patch4_window7_224\n",
      "  Accuracy (argmax pred vs noisy labels): 0.79048\n",
      "  Accuracy (argmax pred vs true labels) : 0.9871\n",
      "  Accuracy (noisy vs true labels)       : 0.80054\n"
     ]
    }
   ],
   "source": [
    "num_cv_folds = 5 # number K in stratified K-folds cross-validation\n",
    "verbose = 0\n",
    "\n",
    "models = [\n",
    "    \"resnet18\", \n",
    "    \"resnet50d\",\n",
    "    \"efficientnet_b1\",\n",
    "    \"twins_pcpvt_base\",\n",
    "    \"swin_base_patch4_window7_224\"\n",
    "]\n",
    "\n",
    "results_list = []\n",
    "\n",
    "for model in models:\n",
    "\n",
    "    pred_probs = []\n",
    "    labels = []\n",
    "    images = []\n",
    "    \n",
    "    for split_num in range(num_cv_folds):\n",
    "\n",
    "        out_subfolder = f\"./cifar10_train_dataset_noise_amount_0.2_sparsity_0.4_cv_{model}/split_{split_num}/\"\n",
    "        \n",
    "        # pickle file name to read\n",
    "        get_pickle_file_name = (\n",
    "            lambda object_name: f\"{out_subfolder}_{object_name}_split_{split_num}\"\n",
    "        )\n",
    "\n",
    "        # NOTE: the \"test_\" prefix in the pickle name correspond to the \"test\" split during cross-validation.\n",
    "        pred_probs_split = load_pickle(get_pickle_file_name(\"test_pred_probs\"), verbose=verbose)\n",
    "        labels_split = load_pickle(get_pickle_file_name(\"test_labels\"), verbose=verbose)\n",
    "        images_split = load_pickle(get_pickle_file_name(\"test_image_files\"), verbose=verbose)\n",
    "        indices_split = load_pickle(get_pickle_file_name(\"test_indices\"), verbose=verbose)\n",
    "\n",
    "        # append to list so we can combine data from all the splits\n",
    "        pred_probs.append(pred_probs_split)\n",
    "        labels.append(labels_split)\n",
    "        images.append(images_split)    \n",
    "\n",
    "    # convert list to array\n",
    "    pred_probs = np.vstack(pred_probs)\n",
    "    labels = np.hstack(labels) # remember that this is the noisy labels (s)\n",
    "    images = np.hstack(images)\n",
    "    \n",
    "    # get the true labels (y) from the original file path\n",
    "    true_labels = get_orig_label_idx_from_file_path(images)\n",
    "    \n",
    "    # save to Numpy files\n",
    "    numpy_out_folder = f\"./cifar10_train_dataset_noise_amount_0.2_sparsity_0.4_cv_{model}/\" \n",
    "    \n",
    "    print(f\"Saving to numpy files in this folder: {numpy_out_folder}\")\n",
    "    \n",
    "    np.save(numpy_out_folder + \"pred_probs\", pred_probs)\n",
    "    np.save(numpy_out_folder + \"noisy_labels\", labels)\n",
    "    np.save(numpy_out_folder + \"images\", images)\n",
    "    np.save(numpy_out_folder + \"true_labels\", true_labels)\n",
    "\n",
    "    # check the accuracy\n",
    "    acc_labels = (pred_probs.argmax(axis=1) == labels).mean() # noisy labels (s)\n",
    "    acc_true_labels = (pred_probs.argmax(axis=1) == true_labels).mean() # true labels (y)    \n",
    "    acc_noisy_vs_true_labels = (labels == true_labels).mean()\n",
    "    \n",
    "    print(f\"Model: {model}\")\n",
    "    print(f\"  Accuracy (argmax pred vs noisy labels): {acc_labels}\")\n",
    "    print(f\"  Accuracy (argmax pred vs true labels) : {acc_true_labels}\")\n",
    "    print(f\"  Accuracy (noisy vs true labels)       : {acc_noisy_vs_true_labels}\")\n",
    "    \n",
    "    results = {\n",
    "        \"model\": model,\n",
    "        \"Accuracy (argmax pred vs noisy labels)\": acc_labels,\n",
    "        \"Accuracy (argmax pred vs true labels)\": acc_true_labels,\n",
    "        \"Accuracy (noisy vs true labels)\": acc_noisy_vs_true_labels\n",
    "    }\n",
    "    \n",
    "    results_list.append(results)"
   ]
  },
  {
   "cell_type": "markdown",
   "id": "2f272c23-4ff2-42e5-803a-7cc4b1edaf3b",
   "metadata": {},
   "source": [
    "## Analyze model accuracy"
   ]
  },
  {
   "cell_type": "code",
   "execution_count": 11,
   "id": "9bd5a9ea-f8bc-4644-97c0-478ad91ef7ed",
   "metadata": {},
   "outputs": [],
   "source": [
    "df = pd.DataFrame(results_list)"
   ]
  },
  {
   "cell_type": "code",
   "execution_count": 12,
   "id": "4f18a0a1-2754-49e2-ae26-4fa5b7bb29c4",
   "metadata": {},
   "outputs": [
    {
     "data": {
      "text/html": [
       "<div>\n",
       "<style scoped>\n",
       "    .dataframe tbody tr th:only-of-type {\n",
       "        vertical-align: middle;\n",
       "    }\n",
       "\n",
       "    .dataframe tbody tr th {\n",
       "        vertical-align: top;\n",
       "    }\n",
       "\n",
       "    .dataframe thead th {\n",
       "        text-align: right;\n",
       "    }\n",
       "</style>\n",
       "<table border=\"1\" class=\"dataframe\">\n",
       "  <thead>\n",
       "    <tr style=\"text-align: right;\">\n",
       "      <th></th>\n",
       "      <th>model</th>\n",
       "      <th>Accuracy (argmax pred vs noisy labels)</th>\n",
       "      <th>Accuracy (argmax pred vs true labels)</th>\n",
       "      <th>Accuracy (noisy vs true labels)</th>\n",
       "    </tr>\n",
       "  </thead>\n",
       "  <tbody>\n",
       "    <tr>\n",
       "      <th>0</th>\n",
       "      <td>resnet18</td>\n",
       "      <td>0.73976</td>\n",
       "      <td>0.92358</td>\n",
       "      <td>0.80054</td>\n",
       "    </tr>\n",
       "    <tr>\n",
       "      <th>1</th>\n",
       "      <td>resnet50d</td>\n",
       "      <td>0.75506</td>\n",
       "      <td>0.94312</td>\n",
       "      <td>0.80054</td>\n",
       "    </tr>\n",
       "    <tr>\n",
       "      <th>2</th>\n",
       "      <td>efficientnet_b1</td>\n",
       "      <td>0.73582</td>\n",
       "      <td>0.91784</td>\n",
       "      <td>0.80054</td>\n",
       "    </tr>\n",
       "    <tr>\n",
       "      <th>3</th>\n",
       "      <td>twins_pcpvt_base</td>\n",
       "      <td>0.78098</td>\n",
       "      <td>0.97382</td>\n",
       "      <td>0.80054</td>\n",
       "    </tr>\n",
       "    <tr>\n",
       "      <th>4</th>\n",
       "      <td>swin_base_patch4_window7_224</td>\n",
       "      <td>0.79048</td>\n",
       "      <td>0.98710</td>\n",
       "      <td>0.80054</td>\n",
       "    </tr>\n",
       "  </tbody>\n",
       "</table>\n",
       "</div>"
      ],
      "text/plain": [
       "                          model  Accuracy (argmax pred vs noisy labels)  \\\n",
       "0                      resnet18                                 0.73976   \n",
       "1                     resnet50d                                 0.75506   \n",
       "2               efficientnet_b1                                 0.73582   \n",
       "3              twins_pcpvt_base                                 0.78098   \n",
       "4  swin_base_patch4_window7_224                                 0.79048   \n",
       "\n",
       "   Accuracy (argmax pred vs true labels)  Accuracy (noisy vs true labels)  \n",
       "0                                0.92358                          0.80054  \n",
       "1                                0.94312                          0.80054  \n",
       "2                                0.91784                          0.80054  \n",
       "3                                0.97382                          0.80054  \n",
       "4                                0.98710                          0.80054  "
      ]
     },
     "execution_count": 12,
     "metadata": {},
     "output_type": "execute_result"
    }
   ],
   "source": [
    "df.head()"
   ]
  },
  {
   "cell_type": "markdown",
   "id": "a8209522-319e-44f3-8db0-c70a64147f5c",
   "metadata": {},
   "source": [
    "## Read numpy file"
   ]
  },
  {
   "cell_type": "code",
   "execution_count": 26,
   "id": "ee2ac82b-2b82-493d-bad4-c74fad6d7333",
   "metadata": {},
   "outputs": [],
   "source": [
    "numpy_out_folder = \"./cifar10_train_dataset_noise_amount_0.2_sparsity_0.4_cv_swin_base_patch4_window7_224/\"\n",
    "\n",
    "pred_probs = np.load(numpy_out_folder + \"pred_probs.npy\")\n",
    "labels = np.load(numpy_out_folder + \"noisy_labels.npy\")\n",
    "true_labels = np.load(numpy_out_folder + \"true_labels.npy\")\n",
    "images = np.load(numpy_out_folder + \"images.npy\", allow_pickle=True)"
   ]
  },
  {
   "cell_type": "code",
   "execution_count": 27,
   "id": "27edd972-80d6-44da-98c7-5b4607ba17c1",
   "metadata": {},
   "outputs": [
    {
     "data": {
      "text/plain": [
       "0.79048"
      ]
     },
     "execution_count": 27,
     "metadata": {},
     "output_type": "execute_result"
    }
   ],
   "source": [
    "(pred_probs.argmax(axis=1) == labels).mean()"
   ]
  },
  {
   "cell_type": "code",
   "execution_count": 28,
   "id": "cff42a71-d208-46b8-82fc-b648e6563488",
   "metadata": {},
   "outputs": [
    {
     "data": {
      "text/plain": [
       "0.9871"
      ]
     },
     "execution_count": 28,
     "metadata": {},
     "output_type": "execute_result"
    }
   ],
   "source": [
    "(pred_probs.argmax(axis=1) == true_labels).mean()"
   ]
  },
  {
   "cell_type": "code",
   "execution_count": null,
   "id": "dfe45c27-92b2-403e-9ac5-61dc0c8d692c",
   "metadata": {},
   "outputs": [],
   "source": []
  },
  {
   "cell_type": "code",
   "execution_count": null,
   "id": "8a6acd43-402c-4ba2-baeb-c36f8679a76b",
   "metadata": {},
   "outputs": [],
   "source": []
  },
  {
   "cell_type": "code",
   "execution_count": 17,
   "id": "2e55df3d-6e57-4c18-8372-2fdd01f23774",
   "metadata": {},
   "outputs": [
    {
     "data": {
      "text/plain": [
       "array(['/Data/cifar10_png/train/airplane/0001.png',\n",
       "       '/Data/cifar10_png/train/airplane/0002.png',\n",
       "       '/Data/cifar10_png/train/airplane/0003.png', ...,\n",
       "       '/Data/cifar10_png/train/truck/4998.png',\n",
       "       '/Data/cifar10_png/train/truck/4999.png',\n",
       "       '/Data/cifar10_png/train/truck/5000.png'], dtype=object)"
      ]
     },
     "execution_count": 17,
     "metadata": {},
     "output_type": "execute_result"
    }
   ],
   "source": [
    "np.unique(images)"
   ]
  }
 ],
 "metadata": {
  "kernelspec": {
   "display_name": "Python 3 (ipykernel)",
   "language": "python",
   "name": "python3"
  },
  "language_info": {
   "codemirror_mode": {
    "name": "ipython",
    "version": 3
   },
   "file_extension": ".py",
   "mimetype": "text/x-python",
   "name": "python",
   "nbconvert_exporter": "python",
   "pygments_lexer": "ipython3",
   "version": "3.8.10"
  }
 },
 "nbformat": 4,
 "nbformat_minor": 5
}
