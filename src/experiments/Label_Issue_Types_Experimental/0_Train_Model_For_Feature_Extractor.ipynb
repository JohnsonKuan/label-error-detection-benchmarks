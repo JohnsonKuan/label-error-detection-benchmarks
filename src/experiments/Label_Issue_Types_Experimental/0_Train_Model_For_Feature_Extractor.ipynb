{
 "cells": [
  {
   "cell_type": "code",
   "execution_count": null,
   "id": "a861d4eb-ada3-46d4-a832-9102b07f577e",
   "metadata": {},
   "outputs": [],
   "source": [
    "%load_ext autoreload\n",
    "%autoreload 2\n",
    "\n",
    "import sys\n",
    "sys.path.insert(0, \"../\")\n",
    "\n",
    "from autogluon.vision import ImagePredictor, ImageDataset\n",
    "import numpy as np\n",
    "import pandas as pd\n",
    "import pickle\n",
    "import datetime\n",
    "from pathlib import Path\n",
    "from sklearn.model_selection import StratifiedKFold\n",
    "from cross_validation_autogluon import cross_val_predict_autogluon_image_dataset\n",
    "\n",
    "pd.set_option('display.max_rows', None)\n",
    "pd.set_option('display.max_columns', None)\n",
    "pd.set_option('display.max_colwidth', None)"
   ]
  },
  {
   "cell_type": "code",
   "execution_count": null,
   "id": "c39bc30d-6e09-4134-830b-6864d0446400",
   "metadata": {},
   "outputs": [],
   "source": [
    "# change label index based on list of classes\n",
    "def process_autogluon_image_dataset(dataset, classes):\n",
    "    dataset[\"label_name\"] = dataset.image.map(lambda x: Path(x).parts[-2])\n",
    "    dataset[\"label\"] = dataset[\"label_name\"].map(lambda x: classes[x])\n",
    "    return dataset"
   ]
  },
  {
   "cell_type": "code",
   "execution_count": null,
   "id": "51832f04-74ad-4e07-b87f-3478bc79c66d",
   "metadata": {},
   "outputs": [],
   "source": [
    "# original data deduped\n",
    "DATA_PATH = \"/Data/andrew-ng-dcai-comp-2021-data-deduped/andrew-ng-dcai-comp-2021-data/\"\n",
    "\n",
    "# read data from root folder\n",
    "train_dataset, val_dataset, test_dataset = \\\n",
    "    ImageDataset.from_folders(\n",
    "        root=DATA_PATH,\n",
    "    )\n",
    "\n",
    "# NOTE!\n",
    "# NOTE! change the label index! AutoGluon assigns label index based on alphabetical order by default\n",
    "classes = {\n",
    "    label_name: idx\n",
    "    for idx, label_name in enumerate(\n",
    "        [\"i\", \"ii\", \"iii\", \"iv\", \"v\", \"vi\", \"vii\", \"viii\", \"ix\", \"x\"]\n",
    "    )\n",
    "}\n",
    "\n",
    "train_dataset, val_dataset, test_dataset = \\\n",
    "    process_autogluon_image_dataset(train_dataset, classes), \\\n",
    "    process_autogluon_image_dataset(val_dataset, classes), \\\n",
    "    process_autogluon_image_dataset(test_dataset, classes)\n",
    "\n",
    "# combine train and val dataset for cross-validation\n",
    "train_val_dataset = pd.concat([train_dataset, val_dataset])"
   ]
  },
  {
   "cell_type": "code",
   "execution_count": null,
   "id": "7bb353e7-da83-4205-95cf-84b530d33308",
   "metadata": {},
   "outputs": [],
   "source": [
    "train_val_dataset.head(3)"
   ]
  },
  {
   "cell_type": "markdown",
   "id": "506f53fd-a1f2-41c9-be22-5b7f360f7bf9",
   "metadata": {},
   "source": [
    "## Train model for feature extractor\n",
    "\n",
    "- Features will be used for KNN-based OOD scoring"
   ]
  },
  {
   "cell_type": "code",
   "execution_count": null,
   "id": "790d93cb-9a31-4901-b71d-2a26eb8ef651",
   "metadata": {},
   "outputs": [],
   "source": [
    "%%time\n",
    "\n",
    "# generate cross-validated predicted probabilities for various models so we can use them for ensemble scoring methods\n",
    "models = [\n",
    "    \"swin_base_patch4_window7_224\"\n",
    "]\n",
    "\n",
    "epochs = 100\n",
    "holdout_frac = 0.2\n",
    "n_splits = 5\n",
    "\n",
    "# run cross-validation for each model\n",
    "\n",
    "ts = datetime.datetime.now().strftime(\"%Y%m%d%H%M%S\") # CV start timestamp\n",
    "\n",
    "for model in models:\n",
    "    \n",
    "    print(\"----\")\n",
    "    print(f\"Running cross-validation for model: {model}\")\n",
    "\n",
    "    MODEL_PARAMS = {\n",
    "        \"model\": model,\n",
    "        \"epochs\": epochs,\n",
    "        \"holdout_frac\": holdout_frac\n",
    "    }\n",
    "\n",
    "    # results of cross-validation will be saved to pickle files for each model/fold\n",
    "    _ = \\\n",
    "        cross_val_predict_autogluon_image_dataset(\n",
    "            dataset=train_val_dataset, # train with NOISY LABELS\n",
    "            out_folder=f\"./dcai_train_val_dataset_cv_{model}/\", # save results of cross-validation in pickle files for each fold\n",
    "            n_splits=n_splits,\n",
    "            model_params=MODEL_PARAMS\n",
    "        )"
   ]
  }
 ],
 "metadata": {
  "kernelspec": {
   "display_name": "Python 3 (ipykernel)",
   "language": "python",
   "name": "python3"
  },
  "language_info": {
   "codemirror_mode": {
    "name": "ipython",
    "version": 3
   },
   "file_extension": ".py",
   "mimetype": "text/x-python",
   "name": "python",
   "nbconvert_exporter": "python",
   "pygments_lexer": "ipython3",
   "version": "3.8.10"
  }
 },
 "nbformat": 4,
 "nbformat_minor": 5
}
