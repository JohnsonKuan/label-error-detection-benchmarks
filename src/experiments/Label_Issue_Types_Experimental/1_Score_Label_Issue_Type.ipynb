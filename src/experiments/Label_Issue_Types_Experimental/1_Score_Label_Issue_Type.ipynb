{
 "cells": [
  {
   "cell_type": "code",
   "execution_count": 18,
   "id": "83f72290-7560-485e-abb8-f9157656640c",
   "metadata": {},
   "outputs": [
    {
     "name": "stdout",
     "output_type": "stream",
     "text": [
      "The autoreload extension is already loaded. To reload it, use:\n",
      "  %reload_ext autoreload\n"
     ]
    }
   ],
   "source": [
    "%load_ext autoreload\n",
    "%autoreload 2\n",
    "\n",
    "import cleanlab\n",
    "from cleanlab.rank import get_label_quality_scores, get_label_quality_ensemble_scores\n",
    "from cleanlab.internal.label_quality_utils import get_normalized_entropy\n",
    "import sys\n",
    "import numpy as np\n",
    "import pandas as pd\n",
    "from pathlib import Path\n",
    "from sklearn.metrics import roc_auc_score, f1_score, precision_score, recall_score, precision_recall_curve, accuracy_score, log_loss\n",
    "from matplotlib import pyplot as plt\n",
    "import copy\n",
    "from PIL import Image\n",
    "from IPython.display import HTML\n",
    "import math\n",
    "import glob\n",
    "import random\n",
    "import base64\n",
    "from io import BytesIO\n",
    "import warnings\n",
    "from autogluon.vision import ImagePredictor, ImageDataset\n",
    "\n",
    "sys.path.insert(0, \"../\")\n",
    "from eval_metrics import lift_at_k\n",
    "from active_learning_scores import least_confidence\n",
    "\n",
    "from approximate_nearest_neighbors import ApproxNearestNeighbors\n",
    "\n",
    "pd.set_option('display.max_rows', None)\n",
    "pd.set_option('display.max_columns', None)\n",
    "pd.set_option('display.max_colwidth', None)\n",
    "\n",
    "warnings.filterwarnings('ignore')"
   ]
  },
  {
   "cell_type": "code",
   "execution_count": 2,
   "id": "b6ae4c7a-c80f-4eae-bfa4-cd0110bdef8d",
   "metadata": {
    "tags": []
   },
   "outputs": [],
   "source": [
    "def get_thumbnail(path):\n",
    "    i = Image.open(path)\n",
    "    i.thumbnail((200, 200), Image.LANCZOS)\n",
    "    return i\n",
    "\n",
    "def image_base64(im):\n",
    "    if isinstance(im, str):\n",
    "        im = get_thumbnail(im)\n",
    "    with BytesIO() as buffer:\n",
    "        im.save(buffer, 'jpeg')\n",
    "        return base64.b64encode(buffer.getvalue()).decode()\n",
    "\n",
    "def image_formatter(im):\n",
    "    return f'<img src=\"data:image/jpeg;base64,{image_base64(im)}\">'\n",
    "\n",
    "# convert your links to html tags \n",
    "def path_to_image_html(path):\n",
    "    return '<img src=\"'+ path + '\" width=\"60\" >'"
   ]
  },
  {
   "cell_type": "markdown",
   "id": "880fb72a-2c28-4898-b75f-d3ce7ac522b2",
   "metadata": {},
   "source": [
    "## Read data"
   ]
  },
  {
   "cell_type": "code",
   "execution_count": 3,
   "id": "f45fce91-d455-4bb6-b86f-0069ca0de627",
   "metadata": {},
   "outputs": [],
   "source": [
    "model = \"swin_base_patch4_window7_224\"\n",
    "\n",
    "#### Andrew Ng DCAI Roman Numerals ####\n",
    "\n",
    "# read numpy files\n",
    "numpy_out_folder = f\"../roman-numeral/roman-numeral_train_val_dataset_cv_{model}/\"\n",
    "pred_probs = np.load(numpy_out_folder + \"pred_probs.npy\")\n",
    "labels = np.load(numpy_out_folder + \"labels.npy\")\n",
    "images = np.load(numpy_out_folder + \"images.npy\", allow_pickle=True)\n",
    "label_errors_mask = np.load(numpy_out_folder + \"label_errors_mask.npy\")"
   ]
  },
  {
   "cell_type": "code",
   "execution_count": 60,
   "id": "fe038d00-38de-40be-b069-00aa02c25853",
   "metadata": {},
   "outputs": [
    {
     "data": {
      "text/plain": [
       "(2831, 10)"
      ]
     },
     "execution_count": 60,
     "metadata": {},
     "output_type": "execute_result"
    }
   ],
   "source": [
    "pred_probs.shape"
   ]
  },
  {
   "cell_type": "code",
   "execution_count": 5,
   "id": "f901fbed-83a4-44f0-bc5f-36f9feb9e01d",
   "metadata": {},
   "outputs": [
    {
     "data": {
      "text/plain": [
       "372"
      ]
     },
     "execution_count": 5,
     "metadata": {},
     "output_type": "execute_result"
    }
   ],
   "source": [
    "# ground-truth label errors\n",
    "label_errors_mask.sum()"
   ]
  },
  {
   "cell_type": "markdown",
   "id": "4491de37-1d9a-4fcb-85d7-98c941e80ffa",
   "metadata": {},
   "source": [
    "## Read annotations"
   ]
  },
  {
   "cell_type": "code",
   "execution_count": 6,
   "id": "0c6d21ea-0fd2-4f26-b978-3c1f7e192737",
   "metadata": {},
   "outputs": [
    {
     "data": {
      "text/html": [
       "<div>\n",
       "<style scoped>\n",
       "    .dataframe tbody tr th:only-of-type {\n",
       "        vertical-align: middle;\n",
       "    }\n",
       "\n",
       "    .dataframe tbody tr th {\n",
       "        vertical-align: top;\n",
       "    }\n",
       "\n",
       "    .dataframe thead th {\n",
       "        text-align: right;\n",
       "    }\n",
       "</style>\n",
       "<table border=\"1\" class=\"dataframe\">\n",
       "  <thead>\n",
       "    <tr style=\"text-align: right;\">\n",
       "      <th></th>\n",
       "      <th>image</th>\n",
       "      <th>label_error</th>\n",
       "      <th>action</th>\n",
       "      <th>given_label</th>\n",
       "      <th>corrected_label</th>\n",
       "      <th>file_path</th>\n",
       "      <th>image_public_url</th>\n",
       "      <th>short_file_paths</th>\n",
       "    </tr>\n",
       "  </thead>\n",
       "  <tbody>\n",
       "    <tr>\n",
       "      <th>0</th>\n",
       "      <td>NaN</td>\n",
       "      <td>True</td>\n",
       "      <td>Fix Data Label</td>\n",
       "      <td>i</td>\n",
       "      <td>ii</td>\n",
       "      <td>train/i/abf15a58-ce5d-11eb-b317-38f9d35ea60f.png</td>\n",
       "      <td>https://worksheets.codalab.org/rest/bundles/0x497f5d7096724783aa1eb78b85aa321f/contents/blob/andrew-ng-dcai-comp-2021-data/train/i/abf15a58-ce5d-11eb-b317-38f9d35ea60f.png</td>\n",
       "      <td>train/i/abf15a58-ce5d-11eb-b317-38f9d35ea60f.png</td>\n",
       "    </tr>\n",
       "    <tr>\n",
       "      <th>1</th>\n",
       "      <td>NaN</td>\n",
       "      <td>True</td>\n",
       "      <td>Fix Data Label</td>\n",
       "      <td>i</td>\n",
       "      <td>x</td>\n",
       "      <td>train/i/ac14e8ba-ce5d-11eb-b317-38f9d35ea60f.png</td>\n",
       "      <td>https://worksheets.codalab.org/rest/bundles/0x497f5d7096724783aa1eb78b85aa321f/contents/blob/andrew-ng-dcai-comp-2021-data/train/i/ac14e8ba-ce5d-11eb-b317-38f9d35ea60f.png</td>\n",
       "      <td>train/i/ac14e8ba-ce5d-11eb-b317-38f9d35ea60f.png</td>\n",
       "    </tr>\n",
       "    <tr>\n",
       "      <th>2</th>\n",
       "      <td>NaN</td>\n",
       "      <td>True</td>\n",
       "      <td>Fix Data Label</td>\n",
       "      <td>i</td>\n",
       "      <td>iii</td>\n",
       "      <td>train/i/ac156ed4-ce5d-11eb-b317-38f9d35ea60f.png</td>\n",
       "      <td>https://worksheets.codalab.org/rest/bundles/0x497f5d7096724783aa1eb78b85aa321f/contents/blob/andrew-ng-dcai-comp-2021-data/train/i/ac156ed4-ce5d-11eb-b317-38f9d35ea60f.png</td>\n",
       "      <td>train/i/ac156ed4-ce5d-11eb-b317-38f9d35ea60f.png</td>\n",
       "    </tr>\n",
       "  </tbody>\n",
       "</table>\n",
       "</div>"
      ],
      "text/plain": [
       "   image  label_error          action given_label corrected_label  \\\n",
       "0    NaN         True  Fix Data Label           i              ii   \n",
       "1    NaN         True  Fix Data Label           i               x   \n",
       "2    NaN         True  Fix Data Label           i             iii   \n",
       "\n",
       "                                          file_path  \\\n",
       "0  train/i/abf15a58-ce5d-11eb-b317-38f9d35ea60f.png   \n",
       "1  train/i/ac14e8ba-ce5d-11eb-b317-38f9d35ea60f.png   \n",
       "2  train/i/ac156ed4-ce5d-11eb-b317-38f9d35ea60f.png   \n",
       "\n",
       "                                                                                                                                                              image_public_url  \\\n",
       "0  https://worksheets.codalab.org/rest/bundles/0x497f5d7096724783aa1eb78b85aa321f/contents/blob/andrew-ng-dcai-comp-2021-data/train/i/abf15a58-ce5d-11eb-b317-38f9d35ea60f.png   \n",
       "1  https://worksheets.codalab.org/rest/bundles/0x497f5d7096724783aa1eb78b85aa321f/contents/blob/andrew-ng-dcai-comp-2021-data/train/i/ac14e8ba-ce5d-11eb-b317-38f9d35ea60f.png   \n",
       "2  https://worksheets.codalab.org/rest/bundles/0x497f5d7096724783aa1eb78b85aa321f/contents/blob/andrew-ng-dcai-comp-2021-data/train/i/ac156ed4-ce5d-11eb-b317-38f9d35ea60f.png   \n",
       "\n",
       "                                   short_file_paths  \n",
       "0  train/i/abf15a58-ce5d-11eb-b317-38f9d35ea60f.png  \n",
       "1  train/i/ac14e8ba-ce5d-11eb-b317-38f9d35ea60f.png  \n",
       "2  train/i/ac156ed4-ce5d-11eb-b317-38f9d35ea60f.png  "
      ]
     },
     "execution_count": 6,
     "metadata": {},
     "output_type": "execute_result"
    }
   ],
   "source": [
    "df_roman_numeral_annotations = pd.read_csv(\"andrew-ng-dcai-comp-2021-manual-review-for-label-errors - Data.csv\")\n",
    "df_roman_numeral_annotations[\"short_file_paths\"] = df_roman_numeral_annotations.file_path\n",
    "df_roman_numeral_annotations.head(3)"
   ]
  },
  {
   "cell_type": "markdown",
   "id": "e8599fb8-0991-44d0-a600-d36a610cdde0",
   "metadata": {},
   "source": [
    "## Find label issues with cleanlab"
   ]
  },
  {
   "cell_type": "code",
   "execution_count": 7,
   "id": "56962dbb-d2e9-4171-b3e9-8ad9b732be8a",
   "metadata": {},
   "outputs": [
    {
     "data": {
      "text/plain": [
       "158"
      ]
     },
     "execution_count": 7,
     "metadata": {},
     "output_type": "execute_result"
    }
   ],
   "source": [
    "pred_label_issues_mask = cleanlab.filter.find_label_issues(labels, pred_probs, filter_by=\"prune_by_class\")\n",
    "pred_label_issues_mask.sum()"
   ]
  },
  {
   "cell_type": "code",
   "execution_count": 8,
   "id": "bdf8f5f7-d3cf-4ade-ba0b-624b84176ab8",
   "metadata": {},
   "outputs": [
    {
     "data": {
      "text/plain": [
       "372"
      ]
     },
     "execution_count": 8,
     "metadata": {},
     "output_type": "execute_result"
    }
   ],
   "source": [
    "label_errors_mask.sum()"
   ]
  },
  {
   "cell_type": "markdown",
   "id": "d4677ed4-d46f-4a00-8a02-6fb8e590ec03",
   "metadata": {},
   "source": [
    "## Prepare data"
   ]
  },
  {
   "cell_type": "code",
   "execution_count": 25,
   "id": "76fce4c1-12a0-4ff9-874e-d4bb431c298d",
   "metadata": {},
   "outputs": [],
   "source": [
    "df = pd.DataFrame({\n",
    "    \"images\": images,\n",
    "    \"labels\": labels,\n",
    "    \"pred_label_issues_mask\": pred_label_issues_mask,\n",
    "    \"label_errors_target\": label_errors_mask\n",
    "})\n",
    "\n",
    "prefix = \"/Data/andrew-ng-dcai-comp-2021-data-deduped/andrew-ng-dcai-comp-2021-data/\" # path to dataset\n",
    "df[\"file_paths\"] = df.images.map(lambda x: prefix + \"/\".join(Path(x).parts[-3:]))\n",
    "df[\"display_image\"] = df.file_paths.map(lambda f: get_thumbnail(f))\n",
    "df[\"short_file_paths\"] = df.file_paths.map(lambda x: \"/\".join(Path(x).parts[-3:]))\n",
    "\n",
    "df[\"label_name\"] = df.file_paths.map(lambda x: Path(x).parts[-2])\n",
    "\n",
    "# add \"actions\" column from annotations\n",
    "df = df.merge(df_roman_numeral_annotations[[\"short_file_paths\", \"action\"]], how=\"left\", on=\"short_file_paths\")"
   ]
  },
  {
   "cell_type": "code",
   "execution_count": 10,
   "id": "6a83f035-a60f-4c5c-9cc4-2b1c8998ceed",
   "metadata": {},
   "outputs": [
    {
     "data": {
      "text/html": [
       "<div>\n",
       "<style scoped>\n",
       "    .dataframe tbody tr th:only-of-type {\n",
       "        vertical-align: middle;\n",
       "    }\n",
       "\n",
       "    .dataframe tbody tr th {\n",
       "        vertical-align: top;\n",
       "    }\n",
       "\n",
       "    .dataframe thead th {\n",
       "        text-align: right;\n",
       "    }\n",
       "</style>\n",
       "<table border=\"1\" class=\"dataframe\">\n",
       "  <thead>\n",
       "    <tr style=\"text-align: right;\">\n",
       "      <th></th>\n",
       "      <th>images</th>\n",
       "      <th>labels</th>\n",
       "      <th>pred_label_issues_mask</th>\n",
       "      <th>label_errors_target</th>\n",
       "      <th>file_paths</th>\n",
       "      <th>display_image</th>\n",
       "      <th>short_file_paths</th>\n",
       "      <th>label_name</th>\n",
       "      <th>action</th>\n",
       "    </tr>\n",
       "  </thead>\n",
       "  <tbody>\n",
       "    <tr>\n",
       "      <th>0</th>\n",
       "      <td>/dcai/data/andrew-ng-dcai-comp-2021-data-deduped/andrew-ng-dcai-comp-2021-data/train/i/ab9fb784-ce5d-11eb-b317-38f9d35ea60f.png</td>\n",
       "      <td>0</td>\n",
       "      <td>False</td>\n",
       "      <td>False</td>\n",
       "      <td>/Data/andrew-ng-dcai-comp-2021-data-deduped/andrew-ng-dcai-comp-2021-data/train/i/ab9fb784-ce5d-11eb-b317-38f9d35ea60f.png</td>\n",
       "      <td>&lt;PIL.PngImagePlugin.PngImageFile image mode=L size=200x200 at 0x7FC5F41A3310&gt;</td>\n",
       "      <td>train/i/ab9fb784-ce5d-11eb-b317-38f9d35ea60f.png</td>\n",
       "      <td>i</td>\n",
       "      <td>Keep Data</td>\n",
       "    </tr>\n",
       "    <tr>\n",
       "      <th>1</th>\n",
       "      <td>/dcai/data/andrew-ng-dcai-comp-2021-data-deduped/andrew-ng-dcai-comp-2021-data/train/i/aba24486-ce5d-11eb-b317-38f9d35ea60f.png</td>\n",
       "      <td>0</td>\n",
       "      <td>False</td>\n",
       "      <td>False</td>\n",
       "      <td>/Data/andrew-ng-dcai-comp-2021-data-deduped/andrew-ng-dcai-comp-2021-data/train/i/aba24486-ce5d-11eb-b317-38f9d35ea60f.png</td>\n",
       "      <td>&lt;PIL.PngImagePlugin.PngImageFile image mode=L size=200x156 at 0x7FC5F41A3220&gt;</td>\n",
       "      <td>train/i/aba24486-ce5d-11eb-b317-38f9d35ea60f.png</td>\n",
       "      <td>i</td>\n",
       "      <td>Keep Data</td>\n",
       "    </tr>\n",
       "    <tr>\n",
       "      <th>2</th>\n",
       "      <td>/dcai/data/andrew-ng-dcai-comp-2021-data-deduped/andrew-ng-dcai-comp-2021-data/train/i/aba35128-ce5d-11eb-b317-38f9d35ea60f.png</td>\n",
       "      <td>0</td>\n",
       "      <td>False</td>\n",
       "      <td>False</td>\n",
       "      <td>/Data/andrew-ng-dcai-comp-2021-data-deduped/andrew-ng-dcai-comp-2021-data/train/i/aba35128-ce5d-11eb-b317-38f9d35ea60f.png</td>\n",
       "      <td>&lt;PIL.PngImagePlugin.PngImageFile image mode=L size=188x200 at 0x7FC5F41A3190&gt;</td>\n",
       "      <td>train/i/aba35128-ce5d-11eb-b317-38f9d35ea60f.png</td>\n",
       "      <td>i</td>\n",
       "      <td>Keep Data</td>\n",
       "    </tr>\n",
       "  </tbody>\n",
       "</table>\n",
       "</div>"
      ],
      "text/plain": [
       "                                                                                                                            images  \\\n",
       "0  /dcai/data/andrew-ng-dcai-comp-2021-data-deduped/andrew-ng-dcai-comp-2021-data/train/i/ab9fb784-ce5d-11eb-b317-38f9d35ea60f.png   \n",
       "1  /dcai/data/andrew-ng-dcai-comp-2021-data-deduped/andrew-ng-dcai-comp-2021-data/train/i/aba24486-ce5d-11eb-b317-38f9d35ea60f.png   \n",
       "2  /dcai/data/andrew-ng-dcai-comp-2021-data-deduped/andrew-ng-dcai-comp-2021-data/train/i/aba35128-ce5d-11eb-b317-38f9d35ea60f.png   \n",
       "\n",
       "   labels  pred_label_issues_mask  label_errors_target  \\\n",
       "0       0                   False                False   \n",
       "1       0                   False                False   \n",
       "2       0                   False                False   \n",
       "\n",
       "                                                                                                                   file_paths  \\\n",
       "0  /Data/andrew-ng-dcai-comp-2021-data-deduped/andrew-ng-dcai-comp-2021-data/train/i/ab9fb784-ce5d-11eb-b317-38f9d35ea60f.png   \n",
       "1  /Data/andrew-ng-dcai-comp-2021-data-deduped/andrew-ng-dcai-comp-2021-data/train/i/aba24486-ce5d-11eb-b317-38f9d35ea60f.png   \n",
       "2  /Data/andrew-ng-dcai-comp-2021-data-deduped/andrew-ng-dcai-comp-2021-data/train/i/aba35128-ce5d-11eb-b317-38f9d35ea60f.png   \n",
       "\n",
       "                                                                   display_image  \\\n",
       "0  <PIL.PngImagePlugin.PngImageFile image mode=L size=200x200 at 0x7FC5F41A3310>   \n",
       "1  <PIL.PngImagePlugin.PngImageFile image mode=L size=200x156 at 0x7FC5F41A3220>   \n",
       "2  <PIL.PngImagePlugin.PngImageFile image mode=L size=188x200 at 0x7FC5F41A3190>   \n",
       "\n",
       "                                   short_file_paths label_name     action  \n",
       "0  train/i/ab9fb784-ce5d-11eb-b317-38f9d35ea60f.png          i  Keep Data  \n",
       "1  train/i/aba24486-ce5d-11eb-b317-38f9d35ea60f.png          i  Keep Data  \n",
       "2  train/i/aba35128-ce5d-11eb-b317-38f9d35ea60f.png          i  Keep Data  "
      ]
     },
     "execution_count": 10,
     "metadata": {},
     "output_type": "execute_result"
    }
   ],
   "source": [
    "df.head(3)"
   ]
  },
  {
   "cell_type": "code",
   "execution_count": 11,
   "id": "9f4881cc-fcc0-4571-8730-a46694ede235",
   "metadata": {},
   "outputs": [
    {
     "data": {
      "text/plain": [
       "(2831, 9)"
      ]
     },
     "execution_count": 11,
     "metadata": {},
     "output_type": "execute_result"
    }
   ],
   "source": [
    "df.shape"
   ]
  },
  {
   "cell_type": "markdown",
   "id": "4aa15f2d-741b-4411-8960-07e3ff69f1a2",
   "metadata": {},
   "source": [
    "## Load model and extract features"
   ]
  },
  {
   "cell_type": "code",
   "execution_count": 12,
   "id": "fa131b58-3f73-4eba-907d-71e0922dd1aa",
   "metadata": {},
   "outputs": [
    {
     "data": {
      "text/html": [
       "<div>\n",
       "<style scoped>\n",
       "    .dataframe tbody tr th:only-of-type {\n",
       "        vertical-align: middle;\n",
       "    }\n",
       "\n",
       "    .dataframe tbody tr th {\n",
       "        vertical-align: top;\n",
       "    }\n",
       "\n",
       "    .dataframe thead th {\n",
       "        text-align: right;\n",
       "    }\n",
       "</style>\n",
       "<table border=\"1\" class=\"dataframe\">\n",
       "  <thead>\n",
       "    <tr style=\"text-align: right;\">\n",
       "      <th></th>\n",
       "      <th>label</th>\n",
       "      <th>image</th>\n",
       "    </tr>\n",
       "  </thead>\n",
       "  <tbody>\n",
       "    <tr>\n",
       "      <th>0</th>\n",
       "      <td>0</td>\n",
       "      <td>/Data/andrew-ng-dcai-comp-2021-data-deduped/andrew-ng-dcai-comp-2021-data/train/i/ab9fb784-ce5d-11eb-b317-38f9d35ea60f.png</td>\n",
       "    </tr>\n",
       "    <tr>\n",
       "      <th>1</th>\n",
       "      <td>0</td>\n",
       "      <td>/Data/andrew-ng-dcai-comp-2021-data-deduped/andrew-ng-dcai-comp-2021-data/train/i/aba24486-ce5d-11eb-b317-38f9d35ea60f.png</td>\n",
       "    </tr>\n",
       "  </tbody>\n",
       "</table>\n",
       "</div>"
      ],
      "text/plain": [
       "   label  \\\n",
       "0      0   \n",
       "1      0   \n",
       "\n",
       "                                                                                                                        image  \n",
       "0  /Data/andrew-ng-dcai-comp-2021-data-deduped/andrew-ng-dcai-comp-2021-data/train/i/ab9fb784-ce5d-11eb-b317-38f9d35ea60f.png  \n",
       "1  /Data/andrew-ng-dcai-comp-2021-data-deduped/andrew-ng-dcai-comp-2021-data/train/i/aba24486-ce5d-11eb-b317-38f9d35ea60f.png  "
      ]
     },
     "execution_count": 12,
     "metadata": {},
     "output_type": "execute_result"
    }
   ],
   "source": [
    "# create \"image\" and \"label\" column with file path for AutoGluon\n",
    "df_model_input = pd.DataFrame({\"label\": labels})\n",
    "df_model_input[\"image\"] = pd.Series(images).map(lambda f: \"/Data/\" + \"/\".join(Path(f).parts[-5:]))\n",
    "df_model_input.head(2)"
   ]
  },
  {
   "cell_type": "code",
   "execution_count": 13,
   "id": "c938d7b8-3d31-4766-ac4f-3f23702a730d",
   "metadata": {},
   "outputs": [
    {
     "name": "stdout",
     "output_type": "stream",
     "text": [
      "Loading model...\n"
     ]
    }
   ],
   "source": [
    "# model path for 1 fold of CV\n",
    "model_path = \"./dcai_train_val_dataset_cv_swin_base_patch4_window7_224/split_0/predictor.ag\"\n",
    "\n",
    "# load model\n",
    "print(\"Loading model...\")\n",
    "predictor_loaded = ImagePredictor.load(model_path)"
   ]
  },
  {
   "cell_type": "code",
   "execution_count": 14,
   "id": "fce44a12-14a9-45ff-9edc-34cdb673fcc7",
   "metadata": {},
   "outputs": [
    {
     "name": "stdout",
     "output_type": "stream",
     "text": [
      "Extracting features...\n"
     ]
    }
   ],
   "source": [
    "print(\"Extracting features...\")\n",
    "features = \\\n",
    "    np.stack(\n",
    "        predictor_loaded.predict_feature(data=df_model_input, as_pandas=False)[:, 0]\n",
    "    )"
   ]
  },
  {
   "cell_type": "code",
   "execution_count": 16,
   "id": "949754bc-a22f-41f1-9afa-45611bc229fb",
   "metadata": {},
   "outputs": [
    {
     "data": {
      "text/plain": [
       "(2831, 1024)"
      ]
     },
     "execution_count": 16,
     "metadata": {},
     "output_type": "execute_result"
    }
   ],
   "source": [
    "features.shape"
   ]
  },
  {
   "cell_type": "markdown",
   "id": "6f85f881-ac1e-4532-8261-c4f896f42dbc",
   "metadata": {},
   "source": [
    "## KNN search"
   ]
  },
  {
   "cell_type": "code",
   "execution_count": 19,
   "id": "263e873e-81b8-47be-b6cd-f655c252451e",
   "metadata": {},
   "outputs": [
    {
     "name": "stdout",
     "output_type": "stream",
     "text": [
      "  Running nearest neighbors search...\n",
      "Building nearest neighbors index\n"
     ]
    }
   ],
   "source": [
    "print(\"  Running nearest neighbors search...\")\n",
    "#### Compute nearest neighbors\n",
    "nns = ApproxNearestNeighbors(\n",
    "        features=features, \n",
    "        labels=labels,\n",
    "        ) # init Nearest Neighbor Scorer\n",
    "nns.build_index() # build index for nearest neighbor lookup\n",
    "\n",
    "neighbors_idx, neighbors_dist, neighbors_labels, neighbors_weights = nns.get_k_nearest_neighbors(k=10)"
   ]
  },
  {
   "cell_type": "code",
   "execution_count": null,
   "id": "24fcf4cb-aaba-4986-b52d-69c1201a5b69",
   "metadata": {},
   "outputs": [],
   "source": []
  },
  {
   "cell_type": "markdown",
   "id": "98dd1677-1af6-4e79-b515-29019a10b458",
   "metadata": {},
   "source": [
    "## Score data"
   ]
  },
  {
   "cell_type": "code",
   "execution_count": 26,
   "id": "362fef7e-58e0-493f-9140-b245a9e80c62",
   "metadata": {
    "tags": []
   },
   "outputs": [
    {
     "data": {
      "text/html": [
       "<div>\n",
       "<style scoped>\n",
       "    .dataframe tbody tr th:only-of-type {\n",
       "        vertical-align: middle;\n",
       "    }\n",
       "\n",
       "    .dataframe tbody tr th {\n",
       "        vertical-align: top;\n",
       "    }\n",
       "\n",
       "    .dataframe thead th {\n",
       "        text-align: right;\n",
       "    }\n",
       "</style>\n",
       "<table border=\"1\" class=\"dataframe\">\n",
       "  <thead>\n",
       "    <tr style=\"text-align: right;\">\n",
       "      <th></th>\n",
       "      <th>images</th>\n",
       "      <th>labels</th>\n",
       "      <th>pred_label_issues_mask</th>\n",
       "      <th>label_errors_target</th>\n",
       "      <th>file_paths</th>\n",
       "      <th>display_image</th>\n",
       "      <th>short_file_paths</th>\n",
       "      <th>label_name</th>\n",
       "      <th>action</th>\n",
       "      <th>top1_pred</th>\n",
       "      <th>top2_pred</th>\n",
       "      <th>self_confidence</th>\n",
       "      <th>normalized_margin</th>\n",
       "      <th>confidence_weighted_entropy</th>\n",
       "      <th>entropy</th>\n",
       "      <th>top2_entropy</th>\n",
       "      <th>top1_pred_label</th>\n",
       "      <th>knn_k10_entropy</th>\n",
       "    </tr>\n",
       "  </thead>\n",
       "  <tbody>\n",
       "    <tr>\n",
       "      <th>0</th>\n",
       "      <td>/dcai/data/andrew-ng-dcai-comp-2021-data-deduped/andrew-ng-dcai-comp-2021-data/train/i/ab9fb784-ce5d-11eb-b317-38f9d35ea60f.png</td>\n",
       "      <td>0</td>\n",
       "      <td>False</td>\n",
       "      <td>False</td>\n",
       "      <td>/Data/andrew-ng-dcai-comp-2021-data-deduped/andrew-ng-dcai-comp-2021-data/train/i/ab9fb784-ce5d-11eb-b317-38f9d35ea60f.png</td>\n",
       "      <td>&lt;PIL.PngImagePlugin.PngImageFile image mode=L size=200x200 at 0x7FC5F42BB9A0&gt;</td>\n",
       "      <td>train/i/ab9fb784-ce5d-11eb-b317-38f9d35ea60f.png</td>\n",
       "      <td>i</td>\n",
       "      <td>Keep Data</td>\n",
       "      <td>0.966221</td>\n",
       "      <td>0.011509</td>\n",
       "      <td>0.966221</td>\n",
       "      <td>0.977356</td>\n",
       "      <td>0.955193</td>\n",
       "      <td>0.092045</td>\n",
       "      <td>0.092318</td>\n",
       "      <td>i</td>\n",
       "      <td>0.156803</td>\n",
       "    </tr>\n",
       "  </tbody>\n",
       "</table>\n",
       "</div>"
      ],
      "text/plain": [
       "                                                                                                                            images  \\\n",
       "0  /dcai/data/andrew-ng-dcai-comp-2021-data-deduped/andrew-ng-dcai-comp-2021-data/train/i/ab9fb784-ce5d-11eb-b317-38f9d35ea60f.png   \n",
       "\n",
       "   labels  pred_label_issues_mask  label_errors_target  \\\n",
       "0       0                   False                False   \n",
       "\n",
       "                                                                                                                   file_paths  \\\n",
       "0  /Data/andrew-ng-dcai-comp-2021-data-deduped/andrew-ng-dcai-comp-2021-data/train/i/ab9fb784-ce5d-11eb-b317-38f9d35ea60f.png   \n",
       "\n",
       "                                                                   display_image  \\\n",
       "0  <PIL.PngImagePlugin.PngImageFile image mode=L size=200x200 at 0x7FC5F42BB9A0>   \n",
       "\n",
       "                                   short_file_paths label_name     action  \\\n",
       "0  train/i/ab9fb784-ce5d-11eb-b317-38f9d35ea60f.png          i  Keep Data   \n",
       "\n",
       "   top1_pred  top2_pred  self_confidence  normalized_margin  \\\n",
       "0   0.966221   0.011509         0.966221           0.977356   \n",
       "\n",
       "   confidence_weighted_entropy   entropy  top2_entropy top1_pred_label  \\\n",
       "0                     0.955193  0.092045      0.092318               i   \n",
       "\n",
       "   knn_k10_entropy  \n",
       "0         0.156803  "
      ]
     },
     "execution_count": 26,
     "metadata": {},
     "output_type": "execute_result"
    }
   ],
   "source": [
    "# roman-numeral label names\n",
    "label_names = [\"i\", \"ii\", \"iii\", \"iv\", \"v\", \"vi\", \"vii\", \"viii\", \"ix\", \"x\"]\n",
    "\n",
    "\n",
    "top2_pred_probs = np.sort(pred_probs, axis=1)[:, -2:][:, ::-1]\n",
    "p0, p1 = top2_pred_probs[:, 0], top2_pred_probs[:, 1]\n",
    "\n",
    "\n",
    "entropy = get_normalized_entropy(pred_probs)\n",
    "\n",
    "# update DataFrame\n",
    "df[\"top1_pred\"] = p0\n",
    "df[\"top2_pred\"] = p1\n",
    "df[\"self_confidence\"] = get_label_quality_scores(labels, pred_probs, method=\"self_confidence\")\n",
    "df[\"normalized_margin\"] = get_label_quality_scores(labels, pred_probs, method=\"normalized_margin\")\n",
    "df[\"confidence_weighted_entropy\"] = get_label_quality_scores(labels, pred_probs, method=\"confidence_weighted_entropy\")\n",
    "df[\"entropy\"] = entropy\n",
    "df[\"top2_entropy\"] = get_normalized_entropy(top2_pred_probs / top2_pred_probs.sum(axis=1)[:, None])\n",
    "df[\"top1_pred_label\"] = np.vectorize(lambda idx: label_names[idx])(pred_probs.argmax(axis=1))\n",
    "\n",
    "\n",
    "get_neighbor_entropy = np.vectorize(lambda idx: df.entropy.values[idx])\n",
    "\n",
    "k = 10\n",
    "df[\"knn_k10_entropy\"] = (get_neighbor_entropy(neighbors_idx[:,:k]).sum(axis=1) + df.entropy.values) / (k + 1)\n",
    "\n",
    "df.head(1)"
   ]
  },
  {
   "cell_type": "code",
   "execution_count": 27,
   "id": "355e3b28-c49a-47b2-9044-e8f127f49196",
   "metadata": {},
   "outputs": [],
   "source": [
    "columns = [\n",
    "    # \"top1_pred\",\n",
    "    # \"top2_pred\",    \n",
    "    # \"top2_entropy\",\n",
    "    # \"correctable_score\",\n",
    "    # \"self_confidence\",\n",
    "    # \"normalized_margin\",\n",
    "    # \"confidence_weighted_entropy\",\n",
    "    # \"entropy\",\n",
    "    \"display_image\",\n",
    "    \"label_errors_target\",\n",
    "    \"action\",\n",
    "    \"correctable\",\n",
    "    \"ood\",\n",
    "    # \"file_paths\",\n",
    "    \"label_name\",\n",
    "    \"top1_pred_label\",\n",
    "]"
   ]
  },
  {
   "cell_type": "code",
   "execution_count": 28,
   "id": "f4d3f43b-5e8d-4a97-a2ce-36379d8c6e2b",
   "metadata": {},
   "outputs": [],
   "source": [
    "avg_entropy_per_class = np.array(\n",
    "    [np.mean(entropy[labels == k]) for k in range(pred_probs.shape[1])]\n",
    ")"
   ]
  },
  {
   "cell_type": "code",
   "execution_count": 29,
   "id": "545f41f0-0238-4628-a960-cffc8ffce836",
   "metadata": {},
   "outputs": [
    {
     "data": {
      "text/plain": [
       "array([0.26696488, 0.40346259, 0.41926852, 0.43045074, 0.3715463 ,\n",
       "       0.46441901, 0.44632777, 0.32691741, 0.3601305 , 0.33584734])"
      ]
     },
     "execution_count": 29,
     "metadata": {},
     "output_type": "execute_result"
    }
   ],
   "source": [
    "avg_entropy_per_class"
   ]
  },
  {
   "cell_type": "code",
   "execution_count": null,
   "id": "1902a6ab-c77e-4a68-8919-f5ffb2eb7aec",
   "metadata": {},
   "outputs": [],
   "source": []
  },
  {
   "cell_type": "code",
   "execution_count": 31,
   "id": "543cd2eb-9958-480c-bf0a-6abe067bbd3e",
   "metadata": {},
   "outputs": [
    {
     "data": {
      "text/plain": [
       "<AxesSubplot:ylabel='Frequency'>"
      ]
     },
     "execution_count": 31,
     "metadata": {},
     "output_type": "execute_result"
    },
    {
     "data": {
      "image/png": "[encoded data removed]",
      "text/plain": [
       "<Figure size 432x288 with 1 Axes>"
      ]
     },
     "metadata": {
      "needs_background": "light"
     },
     "output_type": "display_data"
    }
   ],
   "source": [
    "pred_probs_gt_self_mask = pred_probs > df.self_confidence.values[:, None]\n",
    "pd.Series((pred_probs * pred_probs_gt_self_mask).sum(axis=1)).plot(kind=\"hist\")"
   ]
  },
  {
   "cell_type": "code",
   "execution_count": null,
   "id": "d0a4835e-3044-4794-a31f-4f6fb0afeea4",
   "metadata": {},
   "outputs": [],
   "source": [
    "# sum of pred_prob greater than self_confidence\n",
    "# pred_probs_gt_self_mask = pred_probs > df.self_confidence.values[:, None]\n",
    "# df[\"correctable_score\"] = (pred_probs * pred_probs_gt_self_mask).sum(axis=1)\n",
    "# df[\"correctable_score\"] = (pred_probs * pred_probs_gt_self_mask).sum(axis=1)"
   ]
  },
  {
   "cell_type": "code",
   "execution_count": 32,
   "id": "acd634ec-0e49-4a89-9b0c-0bd8b5758a1b",
   "metadata": {},
   "outputs": [],
   "source": [
    "# entropy excluding top label pred\n",
    "pred_probs_excl_top = np.sort(pred_probs, axis=1)[:, :(pred_probs.shape[1] - 1)] # exclude top pred\n",
    "pred_probs_excl_top /= pred_probs_excl_top.sum(axis=1)[:, None]\n",
    "entropy_pred_probs_excl_top = get_normalized_entropy(pred_probs_excl_top)"
   ]
  },
  {
   "cell_type": "code",
   "execution_count": 33,
   "id": "6096ad13-7317-47b0-9f2d-d2e7d4ae3a84",
   "metadata": {},
   "outputs": [
    {
     "data": {
      "text/plain": [
       "array([0.02780164, 0.02872106, 0.05721596, 0.06546424, 0.07765306,\n",
       "       0.08670875, 0.15057078, 0.16514798, 0.34071652])"
      ]
     },
     "execution_count": 33,
     "metadata": {},
     "output_type": "execute_result"
    }
   ],
   "source": [
    "pred_probs_excl_top[0]"
   ]
  },
  {
   "cell_type": "code",
   "execution_count": 34,
   "id": "be470117-48ad-40ee-82c3-caa79772cca7",
   "metadata": {},
   "outputs": [
    {
     "data": {
      "text/plain": [
       "array([9.39106510e-04, 9.70163324e-04, 1.93268748e-03, 2.21130461e-03,\n",
       "       2.62302835e-03, 2.92891893e-03, 5.08610252e-03, 5.57850301e-03,\n",
       "       1.15090003e-02, 9.66221213e-01])"
      ]
     },
     "execution_count": 34,
     "metadata": {},
     "output_type": "execute_result"
    }
   ],
   "source": [
    "np.sort(pred_probs[0])"
   ]
  },
  {
   "cell_type": "code",
   "execution_count": null,
   "id": "ab99b99b-ed4d-4c45-918c-0430a7cafca8",
   "metadata": {},
   "outputs": [],
   "source": []
  },
  {
   "cell_type": "code",
   "execution_count": 80,
   "id": "9d7611fe-745e-4e67-ad9f-50ec2b6f9441",
   "metadata": {},
   "outputs": [
    {
     "data": {
      "text/html": [
       "<div>\n",
       "<style scoped>\n",
       "    .dataframe tbody tr th:only-of-type {\n",
       "        vertical-align: middle;\n",
       "    }\n",
       "\n",
       "    .dataframe tbody tr th {\n",
       "        vertical-align: top;\n",
       "    }\n",
       "\n",
       "    .dataframe thead th {\n",
       "        text-align: right;\n",
       "    }\n",
       "</style>\n",
       "<table border=\"1\" class=\"dataframe\">\n",
       "  <thead>\n",
       "    <tr style=\"text-align: right;\">\n",
       "      <th>action</th>\n",
       "      <th>Fix Data Label</th>\n",
       "      <th>Keep Data</th>\n",
       "      <th>Remove Bad Data</th>\n",
       "    </tr>\n",
       "  </thead>\n",
       "  <tbody>\n",
       "    <tr>\n",
       "      <th>num_obs</th>\n",
       "      <td>45.000000</td>\n",
       "      <td>54.000000</td>\n",
       "      <td>59.000000</td>\n",
       "    </tr>\n",
       "    <tr>\n",
       "      <th>avg_entropy</th>\n",
       "      <td>0.550208</td>\n",
       "      <td>0.555648</td>\n",
       "      <td>0.651666</td>\n",
       "    </tr>\n",
       "    <tr>\n",
       "      <th>avg_knn_k10_entropy</th>\n",
       "      <td>0.486045</td>\n",
       "      <td>0.470998</td>\n",
       "      <td>0.548212</td>\n",
       "    </tr>\n",
       "    <tr>\n",
       "      <th>avg_top1_pred</th>\n",
       "      <td>0.593762</td>\n",
       "      <td>0.587072</td>\n",
       "      <td>0.505049</td>\n",
       "    </tr>\n",
       "    <tr>\n",
       "      <th>avg_normalized_margin</th>\n",
       "      <td>0.222908</td>\n",
       "      <td>0.238933</td>\n",
       "      <td>0.268378</td>\n",
       "    </tr>\n",
       "    <tr>\n",
       "      <th>avg_self_confidence</th>\n",
       "      <td>0.039578</td>\n",
       "      <td>0.064938</td>\n",
       "      <td>0.041804</td>\n",
       "    </tr>\n",
       "    <tr>\n",
       "      <th>avg_confidence_weighted_entropy</th>\n",
       "      <td>0.192361</td>\n",
       "      <td>0.258899</td>\n",
       "      <td>0.170874</td>\n",
       "    </tr>\n",
       "    <tr>\n",
       "      <th>avg_correctable_score</th>\n",
       "      <td>1.387876</td>\n",
       "      <td>1.320556</td>\n",
       "      <td>1.252846</td>\n",
       "    </tr>\n",
       "    <tr>\n",
       "      <th>avg_ood_score</th>\n",
       "      <td>0.486045</td>\n",
       "      <td>0.470998</td>\n",
       "      <td>0.548212</td>\n",
       "    </tr>\n",
       "    <tr>\n",
       "      <th>avg_top2_entropy</th>\n",
       "      <td>0.693675</td>\n",
       "      <td>0.690005</td>\n",
       "      <td>0.767520</td>\n",
       "    </tr>\n",
       "  </tbody>\n",
       "</table>\n",
       "</div>"
      ],
      "text/plain": [
       "action                           Fix Data Label  Keep Data  Remove Bad Data\n",
       "num_obs                               45.000000  54.000000        59.000000\n",
       "avg_entropy                            0.550208   0.555648         0.651666\n",
       "avg_knn_k10_entropy                    0.486045   0.470998         0.548212\n",
       "avg_top1_pred                          0.593762   0.587072         0.505049\n",
       "avg_normalized_margin                  0.222908   0.238933         0.268378\n",
       "avg_self_confidence                    0.039578   0.064938         0.041804\n",
       "avg_confidence_weighted_entropy        0.192361   0.258899         0.170874\n",
       "avg_correctable_score                  1.387876   1.320556         1.252846\n",
       "avg_ood_score                          0.486045   0.470998         0.548212\n",
       "avg_top2_entropy                       0.693675   0.690005         0.767520"
      ]
     },
     "execution_count": 80,
     "metadata": {},
     "output_type": "execute_result"
    }
   ],
   "source": [
    "# analyze statistics of scores by action\n",
    "\n",
    "\n",
    "# df[\"correctable_score\"] = df.top1_pred - df.top2_pred\n",
    "# df[\"correctable_score\"] = df.normalized_margin - df.normalized_margin.mean() + 1\n",
    "# df[\"correctable_score\"] = (df.top2_pred - df.top2_pred.mean()) * (df.top1_pred / df.top2_pred) + 1\n",
    "# df[\"correctable_score\"] = (top2_entropy / entropy) * (df.top1_pred - df.top2_pred)\n",
    "# df[\"correctable_score\"] = (1 / entropy) * (1 - df.normalized_margin)\n",
    "# df[\"correctable_score\"] = (top2_entropy / entropy) * (1 - df.self_confidence)\n",
    "# df[\"correctable_score\"] = (1 / entropy) * (1 - df.self_confidence)\n",
    "# df[\"correctable_score\"] = (df.top1_pred / entropy)\n",
    "\n",
    "# df[\"correctable_score\"] = (1 / entropy_pred_probs_excl_top) * (1 - df.normalized_margin)\n",
    "# df[\"correctable_score\"] = (1 / entropy_pred_probs_excl_top) * (1 - df.self_confidence)\n",
    "# df[\"correctable_score\"] = (top2_entropy / entropy) * (1 - df.normalized_margin)\n",
    "# df[\"correctable_score\"] = df.top1_pred / df.self_confidence\n",
    "# df[\"correctable_score\"] = (df.top2_entropy / entropy)\n",
    "\n",
    "mass_above_given_label = np.sum(np.clip(pred_probs - df.self_confidence.values[:,np.newaxis], a_min=0, a_max=None), axis=1)\n",
    "df[\"correctable_score\"] = mass_above_given_label / entropy_pred_probs_excl_top\n",
    "# df[\"correctable_score\"] = mass_above_given_label / entropy\n",
    "# df[\"correctable_score\"] = 1 / entropy_pred_probs_excl_top\n",
    "\n",
    "\n",
    "# df[\"ood_score\"] = (entropy - np.vectorize(lambda idx: avg_entropy_per_class[idx])(labels))\n",
    "\n",
    "df[\"ood_score\"] = df.knn_k10_entropy\n",
    "\n",
    "\n",
    "avg_correctable_score_per_class = np.array(\n",
    "    [np.mean(df.correctable_score.values[labels == k]) for k in range(pred_probs.shape[1])]\n",
    ")\n",
    "\n",
    "avg_ood_score_per_class = np.array(\n",
    "    [np.mean(df.ood_score.values[labels == k]) for k in range(pred_probs.shape[1])]\n",
    ")\n",
    "\n",
    "\n",
    "\n",
    "df[df.pred_label_issues_mask].groupby(\"action\").agg(\n",
    "    num_obs=(\"file_paths\", len),\n",
    "    avg_entropy=(\"entropy\", \"mean\"),\n",
    "    avg_knn_k10_entropy=(\"knn_k10_entropy\", \"mean\"),    \n",
    "    avg_top1_pred=(\"top1_pred\", \"mean\"),    \n",
    "    avg_normalized_margin=(\"normalized_margin\", \"mean\"),\n",
    "    avg_self_confidence=(\"self_confidence\", \"mean\"),\n",
    "    avg_confidence_weighted_entropy=(\"confidence_weighted_entropy\", \"mean\"), \n",
    "    avg_correctable_score=(\"correctable_score\", \"mean\"),\n",
    "    avg_ood_score=(\"ood_score\", \"mean\"),    \n",
    "    avg_top2_entropy=(\"top2_entropy\", \"mean\"),\n",
    ").T"
   ]
  },
  {
   "cell_type": "code",
   "execution_count": 71,
   "id": "d92c6798-cd9e-4ad4-92d2-dc53b49d5a28",
   "metadata": {},
   "outputs": [
    {
     "data": {
      "text/plain": [
       "<AxesSubplot:ylabel='Frequency'>"
      ]
     },
     "execution_count": 71,
     "metadata": {},
     "output_type": "execute_result"
    },
    {
     "data": {
      "image/png": "[encoded data removed]",
      "text/plain": [
       "<Figure size 432x288 with 1 Axes>"
      ]
     },
     "metadata": {
      "needs_background": "light"
     },
     "output_type": "display_data"
    }
   ],
   "source": [
    "df[df.pred_label_issues_mask][\"correctable_score\"].plot(kind=\"hist\", bins=30)"
   ]
  },
  {
   "cell_type": "code",
   "execution_count": 77,
   "id": "a1d5b3d7-b63c-431c-b122-ff4337e46a36",
   "metadata": {
    "tags": []
   },
   "outputs": [
    {
     "name": "stdout",
     "output_type": "stream",
     "text": [
      "\n",
      "Est. Label Issues              : 158\n",
      "Est. Correctable               : 34\n",
      "\n",
      "Precision of Est. Label Issues : 0.6582\n",
      "Precision of Est. Correctable  : 0.7647\n",
      "\n",
      "% of Est. Correctable w/ Action to Fix Data Label  : 0.47058823529411764\n",
      "% of Est. Correctable w/ Action to Remove Bad Data : 0.29411764705882354\n",
      "\n"
     ]
    },
    {
     "data": {
      "text/html": [
       "<table border=\"1\" class=\"dataframe\">\n",
       "  <thead>\n",
       "    <tr style=\"text-align: right;\">\n",
       "      <th></th>\n",
       "      <th>display_image</th>\n",
       "      <th>label_errors_target</th>\n",
       "      <th>action</th>\n",
       "      <th>correctable</th>\n",
       "      <th>ood</th>\n",
       "      <th>label_name</th>\n",
       "      <th>top1_pred_label</th>\n",
       "    </tr>\n",
       "  </thead>\n",
       "  <tbody>\n",
       "    <tr>\n",
       "      <th>1533</th>\n",
       "      <td><img src=\"data:image/jpeg;base64,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\"></td>\n",
       "      <td>True</td>\n",
       "      <td>Fix Data Label</td>\n",
       "      <td>True</td>\n",
       "      <td>False</td>\n",
       "      <td>vi</td>\n",
       "      <td>x</td>\n",
       "    </tr>\n",
       "    <tr>\n",
       "      <th>840</th>\n",
       "      <td><img src=\"data:image/jpeg;base64,/9j/4AAQSkZJRgABAQAAAQABAAD/2wBDAAgGBgcGBQgHBwcJCQgKDBQNDAsLDBkSEw8UHRofHh0aHBwgJC4nICIsIxwcKDcpLDAxNDQ0Hyc5PTgyPC4zNDL/wAALCACqAJoBAREA/8QAHwAAAQUBAQEBAQEAAAAAAAAAAAECAwQFBgcICQoL/8QAtRAAAgEDAwIEAwUFBAQAAAF9AQIDAAQRBRIhMUEGE1FhByJxFDKBkaEII0KxwRVS0fAkM2JyggkKFhcYGRolJicoKSo0NTY3ODk6Q0RFRkdISUpTVFVWV1hZWmNkZWZnaGlqc3R1dnd4eXqDhIWGh4iJipKTlJWWl5iZmqKjpKWmp6ipqrKztLW2t7i5usLDxMXGx8jJytLT1NXW19jZ2uHi4+Tl5ufo6erx8vP09fb3+Pn6/9oACAEBAAA/APf6KKKKKKKKKKKKKKKKKKKKKKKKKKKKKKKKKKKKKKKKKKKKKKKKKKKKKKKKKKKKKKKKKKKKKKKKKKKKKKKKKKKKKKKKKKKKKKKKKKKKKKKKKKKp32rabpfl/wBoahaWnmZ2faJlj3YxnGSM4yPzqa1u7a+tkubS4iuIHztlhcOrYODgjg8giqE3ifQLeaSGbXNMjljYo6PdxhlYcEEE8EVQvPiB4RsLi1gn8Q6eJLp9kWyYOM5A5K5C9RycD8jUF18SfCNnrVtpUmt2rT3CF1eN98a/MAAzrkKTknnoFJOOMy6H8QvCniTURp+ka1Bc3ZQuIgrKWA643AZ9cDnGT2rpqKKKKKKKKKKrXuo2Wmwia/vLe1iZtgeeVUUtycZJ68H8q4yf4y+AoLeWVdejlKIWEccMm58DOBlQMn3IrE8XfHTwvp2izjQ719Q1GWJ1g8mMhYn4AZi47ZyBg5244r5o1vXdS8RanNqOq3T3FzKxZmbj8AOwHAHoAB2p0XiPW4fsmzVr3Fmxe2UzsRCxOSUBOFOeeO/NZrMzsWYksTkknkmplsrp1DLbTFSMgiM4IqCvSfg54N1XXvF9jq9tGI7HTblJpJ5FYI5RlJjVgCN+GBwcV9bUUUUUUUUUUV4J+0fpWsXC6PqKFX0mHMHlqRuWdznOOpyFAHXGD0zz4E1ldIpZraYKBkkxnAFQV9D+Ff2dbeNbK88S6gZnI33FhCpCj/Y8wNk+5A9QOzVw3xu8KaP4T8VWVvo1r9mguLQStGGJCncV4zz2zznkntgDrv2f7jQdWsr/AEC/0K0uL2Am7F1NAkm5DtXbyMjBxjr1PTv7J4uEdj8PtdEMSJFBpVxsiQBVCrE2AAOg4xXw/X2b8KtF/sL4aaLbNHEk0sH2mUx/xGQ7wSe52lR+GBwBXZUUUUUUUUUUVWvdOstShEN/Z291Erbwk8SuobkZwR15P51NNDHcQyQzRpJFIpR0dQVZTwQQeoNfBN2ixXs8aDCrIygegBr7k8MTSXHhPRpppHklksYHd3YlmYoCSSepNeZ/tEaIt94Ls9VWOZ5tPudv7tcqscg+YtxkDKoM5A5+lePfCHxcfCXjy1eRI2tdQK2U7SPtEau64kz22kAnPGM/UfQPxrv7ey+FWrJO5DXJjgiABO5y4OPbhWPPpXyDX3P4T/5E3Q/+wfb/APota2KKKKKKKKKKKKZM7RwySJE8rKpIjQgM5HYZIGT7kD3r4Ju38y9nfay7pGO1hgjnoa+4fCf/ACJuh/8AYPt//Ra1f1Gyj1LTLuwmZ1iuYXhcoQGCsCDjPfmvhrW9Mn0DxDf6ZK486yuXhLo2QSrEZB49M9q9e+JvxDsPE/wj8P24nM2rXMqPdAKF2PHHiQkDsWcbccdehUivEK+4/Bk8Nz4I0OWCWOWP7BCu+NgwyEAIyPQgj6ityiiiiiiiiiiiivhrxhaw2PjbXrS2TZBBqNxFGmSdqrIwAyeTwK+zfCf/ACJuh/8AYPt//Ra1sV8x/tCeFYtJ8T2uuWqIkWqK3mquBiVMZOAB94EHOSSd2ccV5D9ok+yi248vf5nTknGKZGjSyLGgyzEKB6k19s+AtBt/DngnS7GC2a3YwLLMjptfzHAZt3AOQTjnnAAPSukoooooooooooor4t+J9nLY/E7xFDNGI2a9eYKCDlX+dTx6hgfx5r279n3xFqmt6Nq1vqF3JPFZvCkCuc7AVYEDPQfKOOgxwBk17JXK/EDwdY+M/C11Z3Fr513FG8lk6sFdJccAMeACQAQePyBHxfc209ndTWtzE8VxC7RyxuMMjA4II7EEV0Xw5VW+JPhsMAR/aMJ5HcMMV9sUUUUUUUUUUUUUV8yfGj4aX2neIptf01J7uz1GR57hscWzkrwxwAAS3y5Pt2yfRvgt4Lv/AAP4Yv7/AFyZLZ78JM1vJhfsyIG5dj0JDZI7YHfOO9/4Szw3/wBDBpX/AIGx/wCNYk3xY8C2880L+IrffCxWTZHIwBBweQpBGe44r54+Lmq6P4i8Vz6lotxYG0jREXyIvLacn5nduhLbmI5HQfnnfC7WdB8P+NrTVPEDSLbwZMZWASqHPAYjqNud2QCfl4HNfQeh/G/wjr+t2ek2w1CO4u5BFG00AC7j0BIYnk8dO9ekUUUUUUUUUUUUV8sePfjhrPiT7Xpuj/8AEv0iTdHkD99NGcfeb+HODwvZiDmvOrrxHrl7YR2N3rOo3FnGAEt5bp3jUAYGFJwMAkfSs+OGSZtsUbyMBnCqScV0v/Ct/Gv/AEK+q/8AgM3+FXrf4S+NJ7H7W+jSW0fnpABdMImLuyquFbnBZwM9Ovoa6a1/Z48XTWKT3Fxp8EzOFNuZSzKN2NxIG3gfNwScep4ru/B3wLfwr4s0XW5dTgvltg73MLxYCyGMhSnXdhjnJ2kYB617RRRRRRRRRRRRRXhY/Z4jj8ZW94dUjudE87zp4J0IlYbidny4BGNo3ZHUnHY+n6N8PvCWgTNNpug2cUpZXDspkZWXJUqWJ2kZ7Y/Stay0PSdNmM1hpdlaysuwvBbojFeDjIHTgflV+iiiiiiiiiiiiiiiiiiiiiiiiiiiiiiiiiiiiiiiiiiiiiiiiiiiiiiiiiiiiiiiiiiiiiiiiiiiiiiiiiiiiiiiiiiiiiiiiiiiiiiiiiiiiiiiiiiiiiiiiiiiiiiiiiiiiiiiiiiiiiiiiiiiiiv/2Q==\"></td>\n",
       "      <td>True</td>\n",
       "      <td>Fix Data Label</td>\n",
       "      <td>True</td>\n",
       "      <td>False</td>\n",
       "      <td>ix</td>\n",
       "      <td>iv</td>\n",
       "    </tr>\n",
       "    <tr>\n",
       "      <th>1345</th>\n",
       "      <td><img src=\"data:image/jpeg;base64,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\"></td>\n",
       "      <td>True</td>\n",
       "      <td>Remove Bad Data</td>\n",
       "      <td>True</td>\n",
       "      <td>False</td>\n",
       "      <td>iv</td>\n",
       "      <td>iii</td>\n",
       "    </tr>\n",
       "    <tr>\n",
       "      <th>2622</th>\n",
       "      <td><img src=\"data:image/jpeg;base64,/9j/4AAQSkZJRgABAQAAAQABAAD/2wBDAAgGBgcGBQgHBwcJCQgKDBQNDAsLDBkSEw8UHRofHh0aHBwgJC4nICIsIxwcKDcpLDAxNDQ0Hyc5PTgyPC4zNDL/wAALCAClAMgBAREA/8QAHwAAAQUBAQEBAQEAAAAAAAAAAAECAwQFBgcICQoL/8QAtRAAAgEDAwIEAwUFBAQAAAF9AQIDAAQRBRIhMUEGE1FhByJxFDKBkaEII0KxwRVS0fAkM2JyggkKFhcYGRolJicoKSo0NTY3ODk6Q0RFRkdISUpTVFVWV1hZWmNkZWZnaGlqc3R1dnd4eXqDhIWGh4iJipKTlJWWl5iZmqKjpKWmp6ipqrKztLW2t7i5usLDxMXGx8jJytLT1NXW19jZ2uHi4+Tl5ufo6erx8vP09fb3+Pn6/9oACAEBAAA/APf6KKKKKKKKKKKKKKKKKKKKKKKKKKKKKKKKKKKKKKKKKKKKKKKKKKKKKKKKKKKKKKKKKKKKKKKKKKKKKKKKKKKKKKKKKKKKKKKKKKKKKKKKKKKKKKKKKM0UUUUUUUUUUUUUUUUUUVn61rmm+HtMk1HVbyO1tY8Au56k9AB1J9hXkmrftHaJbTyx6ZpF3eqvCSyOIlf8ME4rl9Y/aO1i6g8vSdHtrFzj97LIZiOecDAHtXIzfE34i+Ipmit9Vv3Z+BFYxbe+cDYM1JDL8Wbt1jjbxUWOcD98v+FJ/wAI58VfP8/7H4k83dv37pM59c561o2njr4qeEGMt8upSW6ZVk1K2Z04OT8xAI796+mPDWqXGteG9P1K7s2s7i5hWR4GzlCfr+f41oxTwz7/ACpUk2MUfYwO1h1Bx0PtUlFFFFFFFFFFFFFFFeUfGvwDrPjGwsLnRXaaa0Yq9mZAquGx8wycBhzn1B9q4rSv2drpdEvLrW9T8u8EDNBb2i7wrgEjeT97twv51x/wYg066+JFpY6rZW11DPHIqx3KBgsijcCAep+Uj8a+tLWxtLKPZaWsMCf3Yowg/Suc+IvipvBvgu91aERNdDEdukp4Z2Pp3wMnHtXk3w2+N2qah4ni0zxTcWxtbr93FceWI/Lk7ZI4wemT0OPevoMqGUqwBBGCD3rm/H2vjwx4I1TU1k8uWOEpCw6iRvlUj3BOfwrxn9nqDVr/AMT6tqs13eNZrCVk3OxSaZiD82eCQMn15r6LoooooooooooooooopCMg18c28LeDfjNDCWVVsdXVdxY42F+pI7bTX2OK5XxT4FsPFusaPealPK9vpsjSfYiA0M5OMbwfTH5ZFfNPxb8GjwZ41kWzVk0+8H2m2wMCPJO5Af8AZPT2Ir6X+HXiVPFfgfTdS81XuPKEVyB1WVeGyO2ev0Iryf8AaO8QEyaX4fikOFBup1V+CTwoI/M/jXffBXQJdA+G9n54ZZr52vGRv4Q4AX/x1VP416HRRRRRRRRRRRRRRRRRXyT8c7b7L8VL6RWAM0UMo2jGDsA/P5c19V6XOl1pNncRsWjlgR1Y9wVBB5q3XlPx+0F9V8ArfQwLJNps4mZv4liI2vj8dpP0rz34AeM49J1m48OXkm231A+ZAzEAJKF5H/AgAPqB61xfjHUm8cfFK6lsSZkvbtLe2DHGV4RR7A/1r7It4xDbRRBVUIgXanQYGMD2qSiiiiiiiiiiiiiiiiivlv8AaHtlh+IlvIpJM9hGzZ7YZl/pXvfw3v31P4caBdSElzZojE45K/Lnj/drqagvrSK/sLiznXdDPG0TjHVWGD/OviHxR4c1Dwl4hudKv4niliYmNu0iEna6nuCP6jtWv8KrAaj8TtBhKqwW5ExDHA+QF/6V9nDpRRRRRRRRRRRRRRRRRRXz9+0npLb9E1hSNuHtnG3nP3gc/nXb/AnUjf8Awws4mbLWc0tueR0zuHTpw1elUV4T+0paQ/2ZoV35K+eJpIvNxzt2g4z9efzrgvgNCZfihasGZRHbzOdvf5cYPtzX1nRRRRRRRRRRRRRRRRRRXnvxr0dtX+GOo+VEZZrQpdIBjgKfmPPopY15r+zn4ihtdS1Lw/MWEl3tngwpIJQHfk9uMflX0ZRXOeN/B9n438NTaRduYiSJIZlGTFIM4bHfqQR3Bqp4D+H2leA9L+z2mbi8k/115IoDvznAHZfauuooooooooooooooooooqOeCK5gkgnjWSKRSjo4yGB4II9K8H1nUfBvwR8VImlaFcX+pT25d5JLzaIUZjhQNp9B+Hfk1FcftKsSfs/hoAbRjzLrPOeei9MVb039pKyaFv7T0KdJd3y/Z5Qy49885qe4/aS0hI82+g3sj56PKqjH15qnJ+0tB5beV4Zl34+XddjGff5aoj9pS+3fN4ct8e1y3+FbFp8e9WvlLW3gS9nXGMwyO4DHp0T0xXtNhPNdWFvcT2zW00kau8DsCYyRnaSO4qxRRRRRRRRRRRRRRRRXGeNvhj4f8dMs+oJNDepH5aXMDYYDqAQeCOa4hf2b9BFxGx1nUTCFO9MJuZsjBBxwMZ4x6Vot+z14Oa6kk87UkiYDbEk4wvHPJUk5qxb/AHwPA4Z4r+fB6S3PH/joFatp8G/Adpn/iQxynJ5mld+2PXFdBY+DPDOmhfsegabCVbcrLbJkH1BIzW2FAAAGAOABS0UUUUUUUUUUUUUUUUUUUUUUUUUUUUUUUUUUUUUUUUUUUUUUUUUUUUUUUUUUUUUUUUUUUUUUUUUUUUUUUUUUUUUUUUUUUUUUUUUUUUUUUUUUUUUUUUUUUUUUUUUUUUUUUUUUUUUUUUUUUUUUUUUUUUUUUUUUUUUUUUUUUUUUUUUUUUUUUUUUUV//Z\"></td>\n",
       "      <td>True</td>\n",
       "      <td>Fix Data Label</td>\n",
       "      <td>True</td>\n",
       "      <td>False</td>\n",
       "      <td>vi</td>\n",
       "      <td>iv</td>\n",
       "    </tr>\n",
       "    <tr>\n",
       "      <th>2503</th>\n",
       "      <td><img src=\"data:image/jpeg;base64,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\"></td>\n",
       "      <td>True</td>\n",
       "      <td>Fix Data Label</td>\n",
       "      <td>True</td>\n",
       "      <td>False</td>\n",
       "      <td>ix</td>\n",
       "      <td>vi</td>\n",
       "    </tr>\n",
       "    <tr>\n",
       "      <th>762</th>\n",
       "      <td><img src=\"data:image/jpeg;base64,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\"></td>\n",
       "      <td>False</td>\n",
       "      <td>Keep Data</td>\n",
       "      <td>True</td>\n",
       "      <td>False</td>\n",
       "      <td>iv</td>\n",
       "      <td>vi</td>\n",
       "    </tr>\n",
       "    <tr>\n",
       "      <th>2636</th>\n",
       "      <td><img src=\"data:image/jpeg;base64,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\"></td>\n",
       "      <td>True</td>\n",
       "      <td>Fix Data Label</td>\n",
       "      <td>True</td>\n",
       "      <td>False</td>\n",
       "      <td>vi</td>\n",
       "      <td>iii</td>\n",
       "    </tr>\n",
       "    <tr>\n",
       "      <th>655</th>\n",
       "      <td><img src=\"data:image/jpeg;base64,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\"></td>\n",
       "      <td>True</td>\n",
       "      <td>Fix Data Label</td>\n",
       "      <td>True</td>\n",
       "      <td>False</td>\n",
       "      <td>ii</td>\n",
       "      <td>x</td>\n",
       "    </tr>\n",
       "    <tr>\n",
       "      <th>2104</th>\n",
       "      <td><img src=\"data:image/jpeg;base64,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\"></td>\n",
       "      <td>True</td>\n",
       "      <td>Fix Data Label</td>\n",
       "      <td>True</td>\n",
       "      <td>False</td>\n",
       "      <td>ii</td>\n",
       "      <td>i</td>\n",
       "    </tr>\n",
       "    <tr>\n",
       "      <th>525</th>\n",
       "      <td><img src=\"data:image/jpeg;base64,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\"></td>\n",
       "      <td>True</td>\n",
       "      <td>Fix Data Label</td>\n",
       "      <td>True</td>\n",
       "      <td>False</td>\n",
       "      <td>x</td>\n",
       "      <td>v</td>\n",
       "    </tr>\n",
       "    <tr>\n",
       "      <th>2567</th>\n",
       "      <td><img src=\"data:image/jpeg;base64,/9j/4AAQSkZJRgABAQAAAQABAAD/2wBDAAgGBgcGBQgHBwcJCQgKDBQNDAsLDBkSEw8UHRofHh0aHBwgJC4nICIsIxwcKDcpLDAxNDQ0Hyc5PTgyPC4zNDL/wAALCADIAFsBAREA/8QAHwAAAQUBAQEBAQEAAAAAAAAAAAECAwQFBgcICQoL/8QAtRAAAgEDAwIEAwUFBAQAAAF9AQIDAAQRBRIhMUEGE1FhByJxFDKBkaEII0KxwRVS0fAkM2JyggkKFhcYGRolJicoKSo0NTY3ODk6Q0RFRkdISUpTVFVWV1hZWmNkZWZnaGlqc3R1dnd4eXqDhIWGh4iJipKTlJWWl5iZmqKjpKWmp6ipqrKztLW2t7i5usLDxMXGx8jJytLT1NXW19jZ2uHi4+Tl5ufo6erx8vP09fb3+Pn6/9oACAEBAAA/APf6KKKKKKKKKKKKKKKKKKKKKKKKKKKKKKKKKKKKKKKKKKKKKKKakiSxrJGwZGGVYcginUUUUUUUUUUV8s6p8f8AxNqE6+XaWNva4w8ADNv5BOWJz24xjFb8X7SDQhUj8NgRjHym6z65529yfw9K6bwD8cG8W67aaLdaE8V1cMw823cuigAnJBGR0H869hoooooooor4AqW2t5bu6itrdDJNM4jjQdWYnAA/Gtu/tNe8Ba61uLuax1AQje1tNghXGSu5Tz/9avo34Da1qGseA5jqNzNcyW948aSSszMU2qeWPXkmvUqKKKKKKK+AKv6LN9l1m0ug4Q28onDHsUO4fyqfWdVvfFHiCS7kTfcXMm2OKJMdTwqqPc9B3NfYngHw2nhTwXpulhNsyRB5+c5lblv14/Cq3jr4haX4EtLd7yKa5ubgnyreHG5lX7zEngAf1qz4I8a6d450IalYBo2VzHLbuwLxEdM49RyK6Wiiiis+XXtHgleKbVbGORDtZHuEBU+hBPFfCFKCR0JFdn8J9HXWviVo0Elu88EUpnlC5+UICQSR0G7b+eK+yx0ryf49aJb6j4LF4LaeS9tpF8l4kDAAkbgx7DHp3Arzb9n3xL/ZfjGbRZNxh1SPCYGcSICw+g27v0r6hooorjviR4vHhLwbfX9vKqXoIitww6yHB4B64Bz6V8cXd3Ne3k11cOZJpnMkjt1Zick1BRX0Z+z94Iezs38WXazRy3KNBbISArRZGWx15ZePp717nUdxClxbSwyKrJIhRlYZBBGDkd6+LL6K58AfENvs7bpdMuxJHz94A5Cn8OD+NfZekX66ro1lqCLtW6gSYKe25QcfrVyikd1jRndgqqMkk8AV8t/HjxnF4g8TwaRYzCSy01Tl1YFZJWwSQR1AGB9c1yWkfDPxdrulwalp2jyzWk4JjkDKNwBI7n1BrnZ0SGzgj2L5r/vGbPIB6D8ufxFWPDuizeIvEWn6Rb5El3OsW4DO0E8t+Ayfwr7g0rTodI0iz023LGG0gSBC2MlVAAzjvxVyivmj9oTw/Dp2u6bqFpZxwQzQFGaPgMwYnpjAPPXvmvRfgT4mt9Y8Cx6WGP2zTCY5VwfuszFDnv3/ACr1Kiua8d+ILbw54Sv7ya+NnL5LC3dQCzSYyoAPBJPY18x/DvwZcfErxhcC+mnW0RWnu7hBzk/dUHGASf0U19S6P4ZttD0e00uzb/R7aMRoZAWY46knPc5NfDrMzHLEk4xzXr/7P/hm41HxTPrZjhNrYxmPe5O5ZHHBUDvgHk8c19P9qKK434m+Dx4y8H3FnEim+hBltSSB83pk9iP1Ar56+DfjM+EfGH2a6cJp1/8AurkkZ2EZ2t+BP5E19bAhlBBBB5BFLXzT+0F4nnutfg8PxXU32W3USywkBV8w5A9zxk8/3hj39W+EHg5PCfgm3aWMDUNQVbm5bBBGRlUP+6D+ZNegV8AqpdgqjJJwAK+v/g/4Vu/CXghLPUYEhvpp2nmRWyVyBgHtkADpXf0UUjAFSD0Ir47+J1p/wjnxT1BrCL7LsnS4hUKFCnAOQB2zzX1vo2oRarotlqEMqyx3MCSh16HIB/yKk1G8SxsJrh2ACIW5yegJ6DrwDxXyL4T0u7+JnxPUXlzOfPdrieZjvZUQcDn6KtfYUalIkVmLEAAse9Or5C+D/gr/AIS/xeklwcWGnlZ5/lJ3nPypkdM4POe1fXvSiiiivAf2jvDp2aX4hghHBa2uXUc9ihP/AI8K6D9njVlu/A1xp3G+yum4B/hf5h+uau/HjXm0jwGbSNisuoSeSMPg7QMtx3HT05xXGfs5aJOt1qWtvZt5Lp9mjuCwA6hmUDqT938q+hKK4D4Q+FbXw34GsnjYvdXiefcsHyNxx8uP9kADnkHNd/RRRRXHfFLRZde+Hmq2UAleXYJUiiKgyFTkLz2zg+vFfPfwR8Sf2B8Qbe1nYi21EfZmB6Bz9w/nx+NbH7QmuXN34wt9HaVDa2UQdUXqGcAkt74x+FezfCLTxp3wu0OPaoaWEzsVB5LsW598ED8K7eiiiiiiimSxrLGyMAQfUZr4u8deHm8HeL3tIZGIQJNG7DawJAbkZO0jPTNZfiLX7zxPrcmqahJvuJURXcgDO1QvbjtX2voMbw+HtOieOONo7aNSkRyq4UDA9q0aKKKKKKKK8P8A2g/Cc93pcXiO2hRltdsdwwZi4QkgHHQKCR09eeleDeF4o5/FujQzIHikvoEdW6EGRQQa+6AABgdKWiiiiiiiisjxRpMOt+GtQ0+a388SwNtjyRlwMr0I74r5E8OeF9UT4gaXps+nymSO+h86MqeFDgnPpwDX2kKKKKKKKKKKKrx2NpFeS3kdtElzMAssqoAzgdMnvirFFFFFFFFFFFFFFFFFFFFFFFFFFFFFFFFFFFFFFFFFFFFFFFFFFFFFFFFFFFFFFFFFFFFFFFFFFFf/2Q==\"></td>\n",
       "      <td>False</td>\n",
       "      <td>Keep Data</td>\n",
       "      <td>True</td>\n",
       "      <td>False</td>\n",
       "      <td>v</td>\n",
       "      <td>iv</td>\n",
       "    </tr>\n",
       "    <tr>\n",
       "      <th>2395</th>\n",
       "      <td><img src=\"data:image/jpeg;base64,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\"></td>\n",
       "      <td>False</td>\n",
       "      <td>Keep Data</td>\n",
       "      <td>True</td>\n",
       "      <td>False</td>\n",
       "      <td>iii</td>\n",
       "      <td>vii</td>\n",
       "    </tr>\n",
       "    <tr>\n",
       "      <th>1148</th>\n",
       "      <td><img src=\"data:image/jpeg;base64,/9j/4AAQSkZJRgABAQAAAQABAAD/2wBDAAgGBgcGBQgHBwcJCQgKDBQNDAsLDBkSEw8UHRofHh0aHBwgJC4nICIsIxwcKDcpLDAxNDQ0Hyc5PTgyPC4zNDL/wAALCACTAMgBAREA/8QAHwAAAQUBAQEBAQEAAAAAAAAAAAECAwQFBgcICQoL/8QAtRAAAgEDAwIEAwUFBAQAAAF9AQIDAAQRBRIhMUEGE1FhByJxFDKBkaEII0KxwRVS0fAkM2JyggkKFhcYGRolJicoKSo0NTY3ODk6Q0RFRkdISUpTVFVWV1hZWmNkZWZnaGlqc3R1dnd4eXqDhIWGh4iJipKTlJWWl5iZmqKjpKWmp6ipqrKztLW2t7i5usLDxMXGx8jJytLT1NXW19jZ2uHi4+Tl5ufo6erx8vP09fb3+Pn6/9oACAEBAAA/APf6KKKKKKKKKKKKiubq3s7d7i6njggQZeSVwqqPUk8Csibxn4Xt4Xml8RaUERSzEXcZ4HsDk1hJ8YfALuyjxHACvXMMoH5leaxv+GgPBH/PXUP/AAF/+vXU6D8RvCXiNkj07WrZpnC4hlJjfLHAXDYyc8YGa6miiiiiiiiiiiiiiovtVv8A894/++xVK/8AEOjaUqtqGrWNorZwZ7hUzjr1NcRrHx08E6VJ5cV3cag3IzZxBhkHGMsR9cjjFcFrH7SNzLAY9G0JYZSpHmXUu/accEKoGcc9TXKS/Ev4leM7o2GmzXAkeIq0GmwbSRySc8kH3BHSp7P4cfFDxeYYdWOoR2YmCs+pXRxHxywQtk8HsPb1rqf+GaXxz4nX/wAAv/s6st+zbbCKDZr7+YFIm3wfKxzwVw2Rx1BJqu37NRbG3xKq4GD/AKITk+v364vxt8H9b8C6fJqy6jb3Nksqxq0W9JeR1K4wBkHv6V6H8BvGOu69eX+nancXl7BBbqyTS4KxEMRtJxkls5yT/Ca9xooooooooooorE8W+KLLwf4dudZv1keKEALHGMs7nhVHpk9+1fMvi/42eJ/ExkgtJf7KsG48m2Y72Gf4pOuenTA4rzlZ5VDYkYbuvPWul0j4e+LNetDe2WjXUlvtLCVkID8gcdyeR07ZPavUfBfwBW+sY7zxJNcWzMcrbIAH4I+9noDzxjPQ5HSvUdK+FPgzRnjktdFiMkcvmB5WMhzt245PTvj15rodJ8PaRoSMumafb2ob7xjTBPTv17CtOivM/Gnxr0Pwf4g/sZrO6vrmIr9pMJVViBGcAn7zYIOOBz1ru9F1eLXNOS+gtrqCGQAoLiPYWBUHIGenOM98HHHNWryzttQs5bS7hSa3mUpJG4yGBrH8K+DNF8G2k1to1u8Ucz733yFznGMZPOPat+iiiiiiiiiiisPxb4XsvGHh250a+Z0ilwyuh5RgcqffntXkjfs02hYkeJphnsLMcf8Aj9eheHPhX4U8PafawDSra8uYGDm7uIg0jPnOeegz0Hb3rZ03xXoGpa3c6Fp+oQzX9mmZYIwfkAO0jPTIIwR2yK3KKKK8w+MPxIfwZpcenaXIn9tXq5TIyYI+R5mOhOQQPfJ7VQ+F/wAKdOt9ItfEPiO2+3a3eH7SftJ3iLJyvB6t0Yk8gnHavWoIIrW3jt4I1jhiUIiKMBVAwAKkooooooooooooooopr52Njrivlz4F3/8AZnxPmttQ8xbm6hktyZDgiTcGO7PclcepJFfUtFFRXE6W1tLPJnZGhdsDJwBk8V8r6JHc/Fj4yvfXC77QTiZlZdypbocKhHTkAAjjOSetfVgGBilooooooooooooooooor5e8XTH4dfHhdVj8uaJ3+1FZCfuyhg24gdQSxB5xgdcV9OwTx3NvHPCweORQ6MO4IyD+VSUV5r8b/EaaJ4BubRJyl5qGIY0C53Jkb8nsMHGeuSK5j9nTw5Ja6VqOvzLIou2WCHJwGVSSTjHrjnOOvpXuNFFFFFFFFFFFFFFFFFFeU/GzwDL4o0JdXsPMfUNNQlYVXPmxk5YADnI6984wBmq/wM8dwaz4fj8PXkqJqFiu2EE4M8fXPuRzn2GfXHr1FfNH7QuunUvF9joMIBWwh3P8vPmSYOM9xtCHp617t4E0j+wvA2j6cY3jeK2UyI7birt8zDPpuJroaKKKKKKKKKKKKKKKKKKQgEEEZBr5U+IXhq9+GHj+31jTiPsdxMbm2ZI9oQhtxj6bRjjGO2K+jvCfizS/F2jw32nXUUjlFM0IYb4mPUMOo5B+uK25pUhheWRtqIpZj6Ada+S/DUi+NvjpFetA7wXGoNcnyQfkRclW9hwuc+tfWw6VS1jVrPQtHutUv3KWtrGZJGVSxwPQCsDwx8S/Cni2VbfTNVj+1sMi1nUxyHr0B4bpn5SeK62iiiiiiiiiiiiiiiiisfxJ4Y0nxVpb2GrWcdxGQdhbhkJGMqRyD/hXy5qOi+Lvg14piv4NyRksIrhfmhuEB5Vh+XB57+9er6l8ZdK1v4YaxeWb/ZNXWHyhaGZRIC/yh0yPmA5J4zx9DXJfs6aAbnXtR15z8lpELdBuIJd+vGORgHv3rs/BHxOvPEnxW1nRmRxp+1zbI+AYjGdp46/N1Iz1r0zX9Ih1/QL/AEmfHl3cDREkEgEjg8ehwfwr5Q1v4VeNPDN/cT2+nXU0FpKWivLXqVXJEg2nK8DPt0616/8AB34kJf8AhyW18T65bLeQShYXupgryRkDGSepBB9+5617FRRRRRRRRRRRRRRRkU1XV87WDYODg5wadWD4mn8MTWq6X4jn0/yrlgEgu5FG9hjoCc55HT1r5a+KXgS38CeIBa21000FyvnW6sPmRMkEMe5BGPeu6+B3xE0Dw9oF9omrSmzk857tJmyVlyqgqAOdwCjjv+FX/hbNbax8Z/FmtW8zRwMruiMqjcHcdfTGO3416zqPjvwppMssV94g06GWIZeIzqXHGfujnOO1eZeKf2iNMs5TB4bsG1BlI3XNxmOMj/ZH3j9Tj8a8X03RPFHjXXZr7StMmkmuZ9zywRFIY2Y/3uigH8hX2ZplvLaaXaW87h5ooUR2BJ3MFAJyeTyKtUUUUUUUUUUUUVS1fVbXRNIu9TvH229tE0jn2HYZ7np+NfKV58QfHvjrxFHbaZe3gkeXzLazsyIwu3LDp1wM9SenevpPwFY69p3hS2h8TXCz6qWZpXBDNgngMR94gcZ56Cty8u7eBQs17HbHIfLuqkgHkfN2PT8a+Z/iPoemaL45/t2PxJaXSNcx3CWayNLKgHzYLZIAyOOe/A4rC+Kvjqy8eaxp17Z20sAgtPKlWQ5+cuxOD3HI5wPpXGrBNqc8UVhYSNII8GOFS5bHJbA5rs9K+EnxBup38nSZ7MlCTJPMIgwPGM55z6V2+jfs3X7XKtrWu20cAwWSzRnZueRlgMcd8H6V6Vovwa8E6LFt/slb6TGDLet5pPPp90fgO1dvaWdtYW0dtaQRwQRgBI41CqoHoBU9FFFFFFFFFFFFFeQfHvTNf1PQbCPRzdz26yO1zaW0ZbeABhjjkgdMe+e1eWaF4g8ceG9PS00XwkLW5jY77pNJLSuvZWLKc4z161JdX3xf8YXEls6a3hk3NFHEbaPAI9Ao6ke9WLH4IePNedZtVlitf3eQ97cmRxz93C7iPWuosf2alNtnUPEZWfJ4t7bKgduSQf0rF1D9njXbfWI47G7t7vTi43yu/luq5wflPU4yf61754Y8J6T4T0iHT9MtkRUyWk2jfIx6sT6nH8hW5iiiiiiiiiiiiiiiiiiijFGKKKKKKKKKKKKKKKKKKKKKKKKKKKKKKKKKKKKKKKKKKKKKKKKKKKKKKKKKKKKKKKKKKKKKKKKKKKKKKKKKKKKKKKKKKKKKKKKKKKKKKKKKKKKKKKKKKKKKKKKKKKKKKKKKKKKKKKKKKKKKKKKKKKKKKKKKKKKKKKKKKKKKK//Z\"></td>\n",
       "      <td>True</td>\n",
       "      <td>Fix Data Label</td>\n",
       "      <td>True</td>\n",
       "      <td>False</td>\n",
       "      <td>i</td>\n",
       "      <td>x</td>\n",
       "    </tr>\n",
       "    <tr>\n",
       "      <th>921</th>\n",
       "      <td><img src=\"data:image/jpeg;base64,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\"></td>\n",
       "      <td>True</td>\n",
       "      <td>Remove Bad Data</td>\n",
       "      <td>True</td>\n",
       "      <td>False</td>\n",
       "      <td>v</td>\n",
       "      <td>ii</td>\n",
       "    </tr>\n",
       "    <tr>\n",
       "      <th>833</th>\n",
       "      <td><img src=\"data:image/jpeg;base64,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\"></td>\n",
       "      <td>True</td>\n",
       "      <td>Remove Bad Data</td>\n",
       "      <td>True</td>\n",
       "      <td>False</td>\n",
       "      <td>ix</td>\n",
       "      <td>v</td>\n",
       "    </tr>\n",
       "    <tr>\n",
       "      <th>1435</th>\n",
       "      <td><img src=\"data:image/jpeg;base64,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\"></td>\n",
       "      <td>False</td>\n",
       "      <td>Keep Data</td>\n",
       "      <td>True</td>\n",
       "      <td>False</td>\n",
       "      <td>v</td>\n",
       "      <td>vi</td>\n",
       "    </tr>\n",
       "    <tr>\n",
       "      <th>816</th>\n",
       "      <td><img src=\"data:image/jpeg;base64,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\"></td>\n",
       "      <td>False</td>\n",
       "      <td>Keep Data</td>\n",
       "      <td>True</td>\n",
       "      <td>False</td>\n",
       "      <td>ix</td>\n",
       "      <td>iv</td>\n",
       "    </tr>\n",
       "    <tr>\n",
       "      <th>1742</th>\n",
       "      <td><img src=\"data:image/jpeg;base64,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\"></td>\n",
       "      <td>False</td>\n",
       "      <td>Keep Data</td>\n",
       "      <td>True</td>\n",
       "      <td>False</td>\n",
       "      <td>i</td>\n",
       "      <td>iii</td>\n",
       "    </tr>\n",
       "    <tr>\n",
       "      <th>1054</th>\n",
       "      <td><img src=\"data:image/jpeg;base64,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\"></td>\n",
       "      <td>True</td>\n",
       "      <td>Remove Bad Data</td>\n",
       "      <td>True</td>\n",
       "      <td>False</td>\n",
       "      <td>viii</td>\n",
       "      <td>ix</td>\n",
       "    </tr>\n",
       "    <tr>\n",
       "      <th>1114</th>\n",
       "      <td><img src=\"data:image/jpeg;base64,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\"></td>\n",
       "      <td>True</td>\n",
       "      <td>Remove Bad Data</td>\n",
       "      <td>True</td>\n",
       "      <td>False</td>\n",
       "      <td>x</td>\n",
       "      <td>v</td>\n",
       "    </tr>\n",
       "    <tr>\n",
       "      <th>1710</th>\n",
       "      <td><img src=\"data:image/jpeg;base64,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\"></td>\n",
       "      <td>True</td>\n",
       "      <td>Remove Bad Data</td>\n",
       "      <td>True</td>\n",
       "      <td>False</td>\n",
       "      <td>i</td>\n",
       "      <td>iii</td>\n",
       "    </tr>\n",
       "    <tr>\n",
       "      <th>1039</th>\n",
       "      <td><img src=\"data:image/jpeg;base64,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\"></td>\n",
       "      <td>True</td>\n",
       "      <td>Remove Bad Data</td>\n",
       "      <td>True</td>\n",
       "      <td>False</td>\n",
       "      <td>viii</td>\n",
       "      <td>v</td>\n",
       "    </tr>\n",
       "    <tr>\n",
       "      <th>552</th>\n",
       "      <td><img src=\"data:image/jpeg;base64,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\"></td>\n",
       "      <td>True</td>\n",
       "      <td>Fix Data Label</td>\n",
       "      <td>True</td>\n",
       "      <td>False</td>\n",
       "      <td>x</td>\n",
       "      <td>v</td>\n",
       "    </tr>\n",
       "    <tr>\n",
       "      <th>1383</th>\n",
       "      <td><img src=\"data:image/jpeg;base64,/9j/4AAQSkZJRgABAQAAAQABAAD/2wBDAAgGBgcGBQgHBwcJCQgKDBQNDAsLDBkSEw8UHRofHh0aHBwgJC4nICIsIxwcKDcpLDAxNDQ0Hyc5PTgyPC4zNDL/wAALCAClAJoBAREA/8QAHwAAAQUBAQEBAQEAAAAAAAAAAAECAwQFBgcICQoL/8QAtRAAAgEDAwIEAwUFBAQAAAF9AQIDAAQRBRIhMUEGE1FhByJxFDKBkaEII0KxwRVS0fAkM2JyggkKFhcYGRolJicoKSo0NTY3ODk6Q0RFRkdISUpTVFVWV1hZWmNkZWZnaGlqc3R1dnd4eXqDhIWGh4iJipKTlJWWl5iZmqKjpKWmp6ipqrKztLW2t7i5usLDxMXGx8jJytLT1NXW19jZ2uHi4+Tl5ufo6erx8vP09fb3+Pn6/9oACAEBAAA/APf6KKKKKKKKKKKKKKKKKKKKKKKKKKKKKKKKKKKKKKKKKKKKKKKKKKKKKKKKKKKKKKKKKKKKKKKKKKKKKKKKKKKKKKKKKKKKKKKKKKKKKKKKKKKKKKKKKKKKKKKKKKKKKKKKKKKKKKKKKKKKKKKKKKKKKKKKKKKKKKKKKKytY8S6LoKE6pqVvbMFD+WzZkKk4BCDLEZz0HY+lU9I8deFteVTp2u2UpaXyVRpPLdn4wArYJ6joK6GiiiivMfi5461vwONNuNMjtmglD+YJTksVePtjjg468h26EKa9C0m+/tTRrHUPL8r7Vbxz+Xu3bdyhsZ4zjNXKKKKKKKKKKK+Y47C48V/GfV/Dt1qcnmG6lRLmVA7kRhjkgbR0VRgYAGMDipb79nfxJYyS3Gn6lZ3QikzAi5WVhu4JDYUHHJG71617zY6rDo3g3TLvXrv7M62cXnPdMQ5k8sFgQeWfg8ck4NeKeM/2gLuTUEg8Mwz2kMBZZZJhGWlOF/hKttwQw4POa7L4NfEXUfGa6la6xMj3MJEkGIwGKcB8lQFwCUxxn5j17el32rabpfl/wBoahaWnmZ2faJlj3YxnGSM4yPzrl/G+v8Ai3RZ7X/hH9Bjv7Vh++mKtKwY5woRCGGNvJPHzDoRz89fEb4iax4mu7OK9itESCMlFhQgAluTySc/KO/YYweT1um/GjxJp/hqwis9O0u4W3to4wCsm4hVA7PyeOlen/C34hyeP9JvHu7EWl/YyhJ1TPlsGyVK5OQeCCD6e+B3tFFFFFFFFFeAfGfwZe6Br8Pj7w9ujkSQS3O2JCsEq42yYxzu75B5HXLAVZ8L/HLW/EFra6Na6HHc+IGUL5u8+XKQeW2ADHHX5gByegxWL8T9LvdNvNOjubt9R8W6mredFAuVY5CRGMBF7Kcj1XtkZxR8FdZ0fRZNW1u8stOkgZikUl0u6Qqu4BMBgzHBwMgkjp3Nj9n3UL+18fS6fBFHJa3ED/aW2BmjCjIZWH3QW2g9jlc87a3P2iEjXWbObzkEwtI9iAkMpEj4bpjkFsYJPynIHGfa/DE0dv4H0aaaRI4o9Ngd3dgFVRGCSSegFfFmu3kl9rV1PNLJLIznc8jFmLdySfU5P419C+BPh/4a0H4bReIfENnJLNNaG5mjmmGFDAhQgBA3MpTAJyGxjBrsfhlqXhDVdHvLjwlaNbRCcLOkxzKSBwTlmIXk4ycZ3YHWu4ooooooooorz3x9BqXiTXtM8HwCW1sbqNrqe9WNnB2bsIQCBgHZnJ6unTAz4b8SPDZ+FXjS1/4RrU7yHz7XzY3LYkiySrDeOucHsODiu++DWl2q6RdfETxHqhlnSWUI8jg+V/C7Ngli7ZwFPXIOCWBrlvH/AMTD4w8WjTtPlZ9EgJEBwUEjheZCO/8AEBnHB6DnJ8BtX0/TPGes3V1J5Fu9lIU+QnAU+YRhQeiIx/DHpXnni7xLf+KvEd5qWoSRvJJKdoiUKqqMKAPbCjqT0r37xJ4n0XUP2fzDY6vaSXQ063QQrMBKHRkDDYfm4Knt2z0r5mjfy5FfarbSDtYZB9jXoOvfEfxD4/0vTPC6WdvCiOiRx2keDKQu0DAHHBPCADnGOgHuvwi+H194D0m+GoXEb3F80bmKPny9oPBPTPzYIGRx1OePR6KKKKKKKKK8G+MviHVfC3xR8Nawou20y2t1YRo5RJH8xvNUHoCU2A+2B0rC+O1zpHiGPQ/EenazZytJaiM2IcNKqk79x2kgEb8EHHtnnHO+APDPifxL4e1JYJAvh+0DTsLqYpC0oXkLn5d23OScADqRnm78FfDll4g+IF9HdrHNZ29tKzRsARKGOwAYxj7wYMOhUY9RynjHwhqnhHxTe6V9nuvKBPkyhDiaI9GGCeDjpk4xg8ivY/AXwL02fwc7+LLOaPU7xg6bJtr20YwQMYwGPOQc8Y6HNXdQ/Z80K10PUV0e+1OS+eA+SlzJG6M45AICr16Ak8dfXPzXLbTwFhLE67W2kkcZ64zXp3wE0CTVfiCmoGCOS102IyyGRCQrsCExwRuzyOn3SR0r6soooooooooorm/GvgrS/HOhvp2optkXLW9yo+eB/Ueo9R3+uCPHbP8AZuu112M3ms27aQsvz+UGE7oOnBG0E8dzjPfHPpPxDvLHwR8Kb6206G3tovI+xWsBU7MuCCOO+3eck8nrknnif2bdEMOjaxrkiRk3MyW0TdXUINzduAS69+dvTgZ9zoorwP8AaJbTtP0/TbOztNOhu72d7i5eOJVnYDoSRztLMxJPUqOeDXafBDw7/YXw6tp5Ytl1qLm5k3Q+W4Xoik9WGBuB/wBrj39IoooooooooooorwP9pHxBIkekeHoi4SQNeT5UbWwdqYPXI+fPTqOvb0v4WaINB+G+jWpSESyQ/aJGi6OZDuBJIBJ2lR+GOgFdjVbUNQtNKsJr6+nSC2hXdJI/QD+pPQAcknAqzXyrrLTfEv48jT3lNzYi9Nuht3+VbeIncyliV5Ck8cEngc19SWlrDY2cFpbJsggjWKNMk7VUYAyeTwKmoooooooooooor5W8byzeNPjuNNaWWCOO9jsVLEyLEFYKWA4wCeccct+J+qaKzfEGmf2z4d1HTgsTPcW7xx+cMqHI+VjwejYOccYzXz5rl/8AErSPDQ8I3VvfIly62sUsUO5QpyREsozncpxtBJ+XaMDIPovwa+HV74I0y8udXjgXUrwhdiYdokUnjeP73BwPQc54HqFFFFFFFFFFFFFFfNnwdjfxB8ZNS1medvtFvHLPJlB+9ZvkbpwOWzx6Yxzx9J0UUUUUUUUUUUUUUUUUVxfhf4b6Z4U8W6xr1jNJ/wATHO222BUhDMGYDHUbhwABgcc8Y7Siiiiiiiiiiiiiiiiiiiiiiiiiiiiiiiiiiiiiiiiiiiiiiiiiiiiiiiiiiiiiiiiiiiiiiiiiv//Z\"></td>\n",
       "      <td>True</td>\n",
       "      <td>Remove Bad Data</td>\n",
       "      <td>True</td>\n",
       "      <td>False</td>\n",
       "      <td>ix</td>\n",
       "      <td>viii</td>\n",
       "    </tr>\n",
       "    <tr>\n",
       "      <th>1119</th>\n",
       "      <td><img src=\"data:image/jpeg;base64,/9j/4AAQSkZJRgABAQAAAQABAAD/2wBDAAgGBgcGBQgHBwcJCQgKDBQNDAsLDBkSEw8UHRofHh0aHBwgJC4nICIsIxwcKDcpLDAxNDQ0Hyc5PTgyPC4zNDL/wAALCADIALwBAREA/8QAHwAAAQUBAQEBAQEAAAAAAAAAAAECAwQFBgcICQoL/8QAtRAAAgEDAwIEAwUFBAQAAAF9AQIDAAQRBRIhMUEGE1FhByJxFDKBkaEII0KxwRVS0fAkM2JyggkKFhcYGRolJicoKSo0NTY3ODk6Q0RFRkdISUpTVFVWV1hZWmNkZWZnaGlqc3R1dnd4eXqDhIWGh4iJipKTlJWWl5iZmqKjpKWmp6ipqrKztLW2t7i5usLDxMXGx8jJytLT1NXW19jZ2uHi4+Tl5ufo6erx8vP09fb3+Pn6/9oACAEBAAA/APf6KKKKKKKKKKKKKKKKKKKKKKKKKKKKKKKKKKKKKKKKKKKKKKKKKKKKKKKKKKKKKKKKKKKKKKKKKKKKKKKKKKKKKKKKKKKKKKKKKKKKKKKKKKKKKKKKKKKKKKKKKKKKKKKKKKKKKKKKKKKKKKKKKKKKKKKKKKKKKKKKKKKKKKKKKKKKKKp6nq1ho1p9q1K7htYNwTzJW2rk9BmrUciSxrJG6ujDKspyCPUGnUUUUUUUUUUUUUUUUUUUUUV8/ftD+JJYNR0vR4oVBSJp2lZg2Qx2gbf+Ankj6d86f7OWpXF1o2s2s0xkSGaN1B6qWBH5fKK9uooooooooooooooooooooor5a/aEtbmP4gRXMo/cy2aLEQmOATkZ7nJPP+Fdt+ze9qug6vGpX7W06yPxzswQo98EMfbd717fRRRXzz4o+LWvaX8VZTDMy6DYXi2UttkYkA4kP1yTg9sD3r6DhlSeFJY23I6hlOOoIyKfRRRRRRRRRRRRRRRXj37Qmi2tx4Ni1coftdtMkasO6MTkH6dazP2bJHOla5EW+RZY2C+hIYE/oPyr3SiiivmzxtoxuvA/i/UjaLHPa+KZmZhjIjYKOT3G4jgHqTXqPwV1lNW+Gtgv/LW0Z4Jec87iwP4hhXoVFFFFFFFFFFFFFFFcP8XdJXVvhrqytK0f2aI3QwM7igJx+Neefs1zoYdfgLKHBhZVzyR8+Tj2yPzr3uiiiuS8Y+E7PUfB/iG0tLYRT30bTv5anMkyjIbA6k7R9e+a8q/Zv1ZIrnW9Gk4kcJOnPZSQ3H/AhzX0FRRRRRRRRRRRRRRRWH4zs2v/AAXrVqm3dLZyr83T7pr58/Z61A2njy7sWKqLm0YYY85Ug4HPX+gNfT9FFFIRkYNfLfg8T+E/2hPsI2RxvezWzIhKoUfdtH0B2kD1Ar6lHSiiiiiiiiiiiiiiimSxpLE8ciq6OpVlYZBB6g18meErKfw58dLOwkJiki1Ew5X5cqSR+RH88V9bDpRRRRXzJ8W2TR/jjYaksJfm1uHGMbyrYxn6KK+m6KKKKKKKKKKKKKKKK+XPjnp0ugfE231m2UR/akjuY2UAYkQ4PH1AOT1zX0pompR6xodjqURXZdQJKNrZA3DOAe/NX6KKK+dv2krSWPWdCvwwCPBJEoB5DKwYn/x4V7h4Svm1Lwho966FGms4nKlskEqOprZoooooooooooooooryL9oXRW1DwRb6lGCX0+4yeCfkcYP6heT/AFq38BteGq+ABZO+ZtPmMRGOiHle/uf5dq9SooorwL9pb/V+G/8AeuP/AGnXs/he1Wy8K6VbIzMsdpEAW6n5RWtRRRRRRRRRRRRRRRWdr2kw67oN7pdwoaO5iaM56A9j+Bwfwr5v+DGtXPhH4kXPh29wiXkhtZQADiZCQvPpkkcev419Q0UUV87ftEPLP4t8O2mVMYgZlVsAbmcA8++0V7/psTwaXaRSxiORIUVkXopCgEd6tUUUUUUUUUUUUUUUUV8v/G3wzceGfG8XiOxV0gvHEqyKMBJh1GR9M/8A6q9/8D+I18V+ENP1cACSaPEqg9JBw36jP410NFFfMvxSgHiH482OlQiUsDa20mxckZO4kD2Vs/hX01RRRRRRRRRRRRRRRRRXNePfC0XjDwhe6U4HnMu+Bz/DIvKn+n418/fBLxc/hjxjJot/IY7K+PlNvbCxSj7p9s/d/EelfUwORkUVHPNHbwSTTOscUal3djgKAMkmvnDwDHa+Lfj/AH+tQ5azjlmvISxwW/hU8e5B57V9J0UUUUUUUUUUUUUUUUUV89/G34bRWKSeKtIjYF5h9phUZCls5f6E449/fjrPhN8VrHxHp1poWpy+RrUKeWpf7twFHBB/vY6g+mea9YrzL45+JJNC8ASWsKnztSk+yhx/AuMt+JAx+Ncp+zZpYWx1vVXiILyRwRyZ6gAswx+K/nXvFFFFFFFFFFFFFFFFFFFRXFvDd28lvcRJLDIpV0cZDA9QRXzN8SfhfqXgzWR4g8NLKLDzQ8Yg3M9s4wR6nGRnP4eldH4L/aDiMEVp4shKyrkNfQLww5wSgHXoOPriuL+KHj5viVr1jpui2UrWdu5WAFcyTu2ATgZwOOB1/kPpDwX4dtPC/hSw0yzhaNUjDybs7mdhlic98/lW/RRRRRRRRRRRRRRRRRRRR1rgfEPwh8Ja2bm4TSYbe8lU4eJmjQP/AHiq8f41seGvh/4Y8JgNpWlQpOP+XiQb5e/8R5HU9MV01FFFFFFFFFFFFFFFFFFFFFFFFFFFFFFFFFFFFFFFFFFFFFFFFFFFFFFFFFFFFFFFFFFFFFFFFFFFFFFFFFf/2Q==\"></td>\n",
       "      <td>True</td>\n",
       "      <td>Fix Data Label</td>\n",
       "      <td>True</td>\n",
       "      <td>False</td>\n",
       "      <td>x</td>\n",
       "      <td>v</td>\n",
       "    </tr>\n",
       "    <tr>\n",
       "      <th>843</th>\n",
       "      <td><img src=\"data:image/jpeg;base64,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\"></td>\n",
       "      <td>True</td>\n",
       "      <td>Remove Bad Data</td>\n",
       "      <td>True</td>\n",
       "      <td>False</td>\n",
       "      <td>ix</td>\n",
       "      <td>ii</td>\n",
       "    </tr>\n",
       "    <tr>\n",
       "      <th>1709</th>\n",
       "      <td><img src=\"data:image/jpeg;base64,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\"></td>\n",
       "      <td>True</td>\n",
       "      <td>Fix Data Label</td>\n",
       "      <td>True</td>\n",
       "      <td>False</td>\n",
       "      <td>i</td>\n",
       "      <td>ii</td>\n",
       "    </tr>\n",
       "    <tr>\n",
       "      <th>49</th>\n",
       "      <td><img src=\"data:image/jpeg;base64,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\"></td>\n",
       "      <td>False</td>\n",
       "      <td>Keep Data</td>\n",
       "      <td>True</td>\n",
       "      <td>False</td>\n",
       "      <td>i</td>\n",
       "      <td>v</td>\n",
       "    </tr>\n",
       "    <tr>\n",
       "      <th>1075</th>\n",
       "      <td><img src=\"data:image/jpeg;base64,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\"></td>\n",
       "      <td>True</td>\n",
       "      <td>Fix Data Label</td>\n",
       "      <td>True</td>\n",
       "      <td>False</td>\n",
       "      <td>viii</td>\n",
       "      <td>ix</td>\n",
       "    </tr>\n",
       "    <tr>\n",
       "      <th>1666</th>\n",
       "      <td><img src=\"data:image/jpeg;base64,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\"></td>\n",
       "      <td>True</td>\n",
       "      <td>Fix Data Label</td>\n",
       "      <td>True</td>\n",
       "      <td>False</td>\n",
       "      <td>x</td>\n",
       "      <td>v</td>\n",
       "    </tr>\n",
       "    <tr>\n",
       "      <th>1609</th>\n",
       "      <td><img src=\"data:image/jpeg;base64,/9j/4AAQSkZJRgABAQAAAQABAAD/2wBDAAgGBgcGBQgHBwcJCQgKDBQNDAsLDBkSEw8UHRofHh0aHBwgJC4nICIsIxwcKDcpLDAxNDQ0Hyc5PTgyPC4zNDL/wAALCACwAIQBAREA/8QAHwAAAQUBAQEBAQEAAAAAAAAAAAECAwQFBgcICQoL/8QAtRAAAgEDAwIEAwUFBAQAAAF9AQIDAAQRBRIhMUEGE1FhByJxFDKBkaEII0KxwRVS0fAkM2JyggkKFhcYGRolJicoKSo0NTY3ODk6Q0RFRkdISUpTVFVWV1hZWmNkZWZnaGlqc3R1dnd4eXqDhIWGh4iJipKTlJWWl5iZmqKjpKWmp6ipqrKztLW2t7i5usLDxMXGx8jJytLT1NXW19jZ2uHi4+Tl5ufo6erx8vP09fb3+Pn6/9oACAEBAAA/APf6KKKKKKKKKKKKKKKKKKKKKKKKKKKKKKKKKKKKKKKKKKKKKKKKKKKKKKKKKKKKKKKKKKKKKKKKKKKKKKKKKKKKKKKKKKKKKKKKKKKKKKKKKKKKKKKKKKKKKKKKKKKwPF/i/TfBWjJqmqJcNbNMsP7hAzBiCRwSOPlrZtLqG+s4Lu2ffBPGssb4I3KwyDg8jg1NXzd8dPEmuWfjF9M0/X7xbSW3WOWzgLRhCQMocH58hgc/7W3nGB6D8GvH8virRX0vVJZZNWsRhpJEwZYwFBJOeWDNg5wSCOpya9Qooooooooooorwz9o+91KLS9MslMR0ydzIVCkv5idST2GGUDHq2e1et+E/+RN0P/sH2/8A6LWtivk743sz/Fy7iMvlqBAQ/TYTGmT+g/KvpPwtouj6do2n3GnW1ozvZxr9tjthE86lVO48Z+bAODW9RRRRRRRRRRRXzT+0izDxhpS5O02AJGeM+Y/+Jr37wn/yJuh/9g+3/wDRa1sV8kfHX/kq+pf9coP/AEWtfT/hP/kTdD/7B9v/AOi1rYooooooooooor5L+LbLr3xiu7WxMlzvlit/LiUlvMCqjALjOcrjpzgdRX1Xp1lHpumWlhCztFbQpChcgsVUADOO/FWa+cf2krC4XX9H1AoBbPamBWyMlwzMRj2DL+f1r1v4U6s2s/DXRriS4jmmSIwyeWR8m1iFUgdCF29eehPWuzoooooooooorI8TeIrLwt4fu9WvpEVIUJRGbBlfBIQYBOTj0OBk9Aa+cPg1o114u+Jza7exvPBZMbqaWVnyZT9z5h1bPPJ5AJ5r6morgPjF4Zj8RfD6+dbYTXlgpubcgqCMff5Pbbk4BGSo69K8x+APjdNMv5vCWoNsS7l32pYqoSXHzKcgE7sADknIAA5JH0bRRRRRRRRRTJpo7eGSaaRI4o1Lu7sAqqOSST0ArwLxlfa38VfEQ0bQYJJ9FSVUEjIUiiGOZpDzycNtyM4HAySD694M8G6b4J0OPTrBd8mB59yygPMw7n0HJwO2T1JJPRUUV8/fE34IXX2uTXPCMbSl3eW4shtUoeWzEABx2CjnpjOTil4b+O2v+H7abTPE2j3WoXVuAA7nyZUC/KwcFeeg5POd2T6eiWHxB8Va9HbR6X4KntXuwjRXV6zmBFODub5F4256H0xnofSqKKKKKKKhu7WG+s57S5TfBPG0UiZI3KwwRkcjg1W0fRdO0GwFjpdqltbhi+1SSSx6kk5JPQcnoAOgq/RRRRTDDG0yzGNDKilFcqNwU4JAPodq5+g9KfRRRRRRRRRRRRRRRRRRRRRRRRRRRRRRRRRRRRRRRRRRRRRRRRRRRRRRRRRRRRRRRRRRRRRRRRRRRRRRRRRRRRRRRRRRRRRRRRRRRRRRRRRRRRRRRRRRRRRRRRRRRRRRRRRRRXP+MfGGneCNEGranFcyW5lEIFugZtxBI4JH931p/hLxdpXjTRf7V0h5DAJWhdZU2ujjBwR06EHgngit2iiiiiiiv//Z\"></td>\n",
       "      <td>True</td>\n",
       "      <td>Remove Bad Data</td>\n",
       "      <td>True</td>\n",
       "      <td>False</td>\n",
       "      <td>viii</td>\n",
       "      <td>ii</td>\n",
       "    </tr>\n",
       "    <tr>\n",
       "      <th>1073</th>\n",
       "      <td><img src=\"data:image/jpeg;base64,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\"></td>\n",
       "      <td>True</td>\n",
       "      <td>Fix Data Label</td>\n",
       "      <td>True</td>\n",
       "      <td>False</td>\n",
       "      <td>viii</td>\n",
       "      <td>vi</td>\n",
       "    </tr>\n",
       "    <tr>\n",
       "      <th>2026</th>\n",
       "      <td><img src=\"data:image/jpeg;base64,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\"></td>\n",
       "      <td>True</td>\n",
       "      <td>Fix Data Label</td>\n",
       "      <td>True</td>\n",
       "      <td>False</td>\n",
       "      <td>viii</td>\n",
       "      <td>ii</td>\n",
       "    </tr>\n",
       "    <tr>\n",
       "      <th>1608</th>\n",
       "      <td><img src=\"data:image/jpeg;base64,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\"></td>\n",
       "      <td>False</td>\n",
       "      <td>Keep Data</td>\n",
       "      <td>True</td>\n",
       "      <td>False</td>\n",
       "      <td>viii</td>\n",
       "      <td>iii</td>\n",
       "    </tr>\n",
       "  </tbody>\n",
       "</table>"
      ],
      "text/plain": [
       "<IPython.core.display.HTML object>"
      ]
     },
     "execution_count": 77,
     "metadata": {},
     "output_type": "execute_result"
    }
   ],
   "source": [
    "# logic to flag issue type\n",
    "\n",
    "#### Correctable\n",
    "C_correctable = 10\n",
    "# df[\"correctable\"] = df.top1_pred > C_correctable * df.top2_pred\n",
    "# df[\"correctable\"] = df.normalized_margin < C_correctable * df.normalized_margin.mean()\n",
    "# df[\"correctable\"] = (df.top2_pred > C_correctable * df.top2_pred.mean()) & (df.top1_pred / df.top2_pred > C_correctable)\n",
    "# df[\"correctable\"] = df.correctable_score > C_correctable * df.correctable_score.mean()\n",
    "\n",
    "df[\"correctable\"] = df.correctable_score > C_correctable * np.vectorize(lambda idx: avg_correctable_score_per_class[idx])(labels)\n",
    "\n",
    "# adjusted score subtracting class thresholds\n",
    "# df[\"correctable_score_adj\"] = df.correctable_score - np.vectorize(lambda idx: avg_correctable_score_per_class[idx])(labels)\n",
    "\n",
    "#### Multi-Label\n",
    "df[\"multi_label\"] = df.top2_pred > df.top1_pred.mean()\n",
    "\n",
    "#### Out-of-Distribution (OOD)\n",
    "C_ood = 1.75\n",
    "# df[\"ood\"] = df.entropy > C_ood * df.entropy.mean()\n",
    "df[\"ood\"] = df.knn_k10_entropy > C_ood * df.knn_k10_entropy.mean()\n",
    "\n",
    "\n",
    "# df_rank_filter = df[df.pred_label_issues_mask][df.ood].sort_values(by=\"ood_score\", ascending=False)\n",
    "df_rank_filter = df[df.pred_label_issues_mask][(df.correctable) & (~df.ood)].sort_values(by=\"correctable_score\", ascending=False)\n",
    "\n",
    "# df_rank_filter = df[df.pred_label_issues_mask].sort_values(by=\"correctable_score\", ascending=False).head(50)\n",
    "# df_rank_filter = df[df.pred_label_issues_mask][~df.ood].sort_values(by=\"correctable_score\", ascending=False)\n",
    "\n",
    "\n",
    "# print evaluation metrics\n",
    "print()\n",
    "print(f\"Est. Label Issues              : {df.pred_label_issues_mask.sum()}\")\n",
    "print(f\"Est. Correctable               : {df_rank_filter.shape[0]}\")\n",
    "print()\n",
    "print(f\"Precision of Est. Label Issues : {round(df[df.pred_label_issues_mask].label_errors_target.mean(), 4)}\")\n",
    "print(f\"Precision of Est. Correctable  : {round(df_rank_filter.label_errors_target.mean(), 4)}\")\n",
    "print()\n",
    "print(f\"% of Est. Correctable w/ Action to Fix Data Label  : {df_rank_filter[df_rank_filter.action == 'Fix Data Label'].shape[0] / df_rank_filter.shape[0]}\")\n",
    "print(f\"% of Est. Correctable w/ Action to Remove Bad Data : {df_rank_filter[df_rank_filter.action == 'Remove Bad Data'].shape[0] / df_rank_filter.shape[0]}\")\n",
    "print()\n",
    "\n",
    "HTML(df_rank_filter[columns].to_html(formatters={\"display_image\": image_formatter}, escape=False))"
   ]
  },
  {
   "cell_type": "code",
   "execution_count": null,
   "id": "05b9bafc-6c69-4d04-9772-e1ee49a21a61",
   "metadata": {},
   "outputs": [],
   "source": []
  },
  {
   "cell_type": "code",
   "execution_count": null,
   "id": "5df50dbb-0968-41dc-bdb9-73b35c65d72a",
   "metadata": {},
   "outputs": [],
   "source": []
  },
  {
   "cell_type": "code",
   "execution_count": null,
   "id": "79fc1fe0-f745-4295-87c9-8651b623e92b",
   "metadata": {},
   "outputs": [],
   "source": []
  },
  {
   "cell_type": "code",
   "execution_count": null,
   "id": "a2be1e4d-4af4-460e-92ef-8242c8be91d0",
   "metadata": {},
   "outputs": [],
   "source": []
  },
  {
   "cell_type": "code",
   "execution_count": null,
   "id": "a74a0c81-3fd9-4e60-b0f4-850f8ab63799",
   "metadata": {},
   "outputs": [],
   "source": []
  }
 ],
 "metadata": {
  "kernelspec": {
   "display_name": "Python 3 (ipykernel)",
   "language": "python",
   "name": "python3"
  },
  "language_info": {
   "codemirror_mode": {
    "name": "ipython",
    "version": 3
   },
   "file_extension": ".py",
   "mimetype": "text/x-python",
   "name": "python",
   "nbconvert_exporter": "python",
   "pygments_lexer": "ipython3",
   "version": "3.8.10"
  }
 },
 "nbformat": 4,
 "nbformat_minor": 5
}
