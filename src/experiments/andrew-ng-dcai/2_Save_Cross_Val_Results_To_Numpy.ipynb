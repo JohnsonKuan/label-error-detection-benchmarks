{
 "cells": [
  {
   "cell_type": "code",
   "execution_count": 10,
   "id": "62ae8e07-99a8-48b4-bf35-0c3b7b5a02b0",
   "metadata": {},
   "outputs": [],
   "source": [
    "import sys\n",
    "import os\n",
    "import numpy as np\n",
    "import pandas as pd\n",
    "import datetime\n",
    "import pickle\n",
    "from pathlib import Path\n",
    "from sklearn.metrics import roc_auc_score\n",
    "from label_errors import get_label_errors\n",
    "\n",
    "sys.path.insert(0, \"../\")\n",
    "from eval_metrics import lift_at_k"
   ]
  },
  {
   "cell_type": "markdown",
   "id": "ad9a1e25-040a-4a8e-b8d1-13be2c78ab46",
   "metadata": {},
   "source": [
    "## Read pickle files from cross-validation"
   ]
  },
  {
   "cell_type": "code",
   "execution_count": 2,
   "id": "e0163166-2947-4671-89e8-1a8131eeb2b8",
   "metadata": {},
   "outputs": [],
   "source": [
    "PICKLE_FILE_NAME = \"cv_pred_probs_data_deduped_20220202_v0.pickle\"\n",
    "\n",
    "# read pickle file\n",
    "with open(PICKLE_FILE_NAME, 'rb') as handle:\n",
    "    cv_experiment = pickle.load(handle)"
   ]
  },
  {
   "cell_type": "markdown",
   "id": "4b110d03-632d-42eb-8299-df29bd4062a6",
   "metadata": {},
   "source": [
    "## Get list of label errors (ground truth from manual review)"
   ]
  },
  {
   "cell_type": "code",
   "execution_count": 11,
   "id": "cc8b14b3-ce15-4ed5-a2d7-4cba8f26b047",
   "metadata": {},
   "outputs": [],
   "source": [
    "ANNOTATION_PATH = \"andrew-ng-dcai-comp-2021-manual-review-for-label-errors.xlsx\"\n",
    "label_errors = get_label_errors(annotation_path=ANNOTATION_PATH)"
   ]
  },
  {
   "cell_type": "code",
   "execution_count": 12,
   "id": "72cc83d1-3682-4f22-a911-ba959aa96675",
   "metadata": {},
   "outputs": [
    {
     "data": {
      "text/plain": [
       "['abf15a58-ce5d-11eb-b317-38f9d35ea60f.png',\n",
       " 'ac14e8ba-ce5d-11eb-b317-38f9d35ea60f.png',\n",
       " 'ac156ed4-ce5d-11eb-b317-38f9d35ea60f.png']"
      ]
     },
     "execution_count": 12,
     "metadata": {},
     "output_type": "execute_result"
    }
   ],
   "source": [
    "# check out some files with label error\n",
    "label_errors[:3]"
   ]
  },
  {
   "cell_type": "code",
   "execution_count": 13,
   "id": "c93dba5e-83a6-43c9-81b0-d430d31b869b",
   "metadata": {},
   "outputs": [
    {
     "name": "stdout",
     "output_type": "stream",
     "text": [
      "Number of label errors: 373\n"
     ]
    }
   ],
   "source": [
    "print(f\"Number of label errors: {len(label_errors)}\")"
   ]
  },
  {
   "cell_type": "markdown",
   "id": "5c14846d-723a-4f6a-a393-0f116f3259f6",
   "metadata": {},
   "source": [
    "## Save to numpy files"
   ]
  },
  {
   "cell_type": "code",
   "execution_count": 15,
   "id": "3a8bd231-7d8d-4e1b-95b8-04824aa2f4f9",
   "metadata": {},
   "outputs": [
    {
     "name": "stdout",
     "output_type": "stream",
     "text": [
      "Folder ./dcai_train_val_dataset_cv_resnet18/ already exists!\n",
      "Folder ./dcai_train_val_dataset_cv_resnet50d/ already exists!\n",
      "Folder ./dcai_train_val_dataset_cv_efficientnet_b1/ already exists!\n",
      "Folder ./dcai_train_val_dataset_cv_twins_pcpvt_base/ already exists!\n",
      "Folder ./dcai_train_val_dataset_cv_swin_base_patch4_window7_224/ already exists!\n"
     ]
    }
   ],
   "source": [
    "models = [\n",
    "    \"resnet18\", \n",
    "    \"resnet50d\",\n",
    "    \"efficientnet_b1\",\n",
    "    \"twins_pcpvt_base\",\n",
    "    \"swin_base_patch4_window7_224\"\n",
    "]\n",
    "\n",
    "for model in models:\n",
    "    \n",
    "    # get model output\n",
    "    model_results = cv_experiment[model]\n",
    "    framework = cv_experiment[\"metadata\"][\"framework\"]\n",
    "    \n",
    "    pred_probs = model_results[\"pred_probs\"] # cross-validated predicted probabilities\n",
    "    labels = model_results[\"labels\"] # labels\n",
    "    images = model_results[\"images\"] # image file path\n",
    "    \n",
    "    # label error binary target\n",
    "    label_errors_mask = pd.Series(images).map(lambda x: Path(x).name in label_errors).values    \n",
    "\n",
    "    # save to folder\n",
    "    numpy_out_folder = f\"./dcai_train_val_dataset_cv_{model}/\"\n",
    "\n",
    "    try:\n",
    "        os.makedirs(numpy_out_folder, exist_ok=False)\n",
    "    except OSError:\n",
    "        print(f\"Folder {numpy_out_folder} already exists!\")\n",
    "    finally:\n",
    "        np.save(numpy_out_folder + \"pred_probs\", pred_probs)\n",
    "        np.save(numpy_out_folder + \"labels\", labels)\n",
    "        np.save(numpy_out_folder + \"images\", images)\n",
    "        np.save(numpy_out_folder + \"label_errors_mask\", label_errors_mask)"
   ]
  }
 ],
 "metadata": {
  "kernelspec": {
   "display_name": "Python 3 (ipykernel)",
   "language": "python",
   "name": "python3"
  },
  "language_info": {
   "codemirror_mode": {
    "name": "ipython",
    "version": 3
   },
   "file_extension": ".py",
   "mimetype": "text/x-python",
   "name": "python",
   "nbconvert_exporter": "python",
   "pygments_lexer": "ipython3",
   "version": "3.8.10"
  }
 },
 "nbformat": 4,
 "nbformat_minor": 5
}
